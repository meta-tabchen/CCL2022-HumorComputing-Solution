{
 "cells": [
  {
   "cell_type": "code",
   "execution_count": 1,
   "metadata": {},
   "outputs": [],
   "source": [
    "import warnings\n",
    "warnings.filterwarnings(\"ignore\")"
   ]
  },
  {
   "cell_type": "code",
   "execution_count": 2,
   "metadata": {},
   "outputs": [
    {
     "name": "stderr",
     "output_type": "stream",
     "text": [
      "Using TensorFlow backend.\n"
     ]
    }
   ],
   "source": [
    "import os\n",
    "import sys\n",
    "import pandas as pd\n",
    "sys.path.append('auto_text_classifier')\n",
    "from atc.models.aml import AML\n",
    "from atc.utils.data_utils import load_df\n",
    "from atc.utils.metrics_utils import get_multi_class_report\n",
    "from atc.utils.metrics_utils import get_model_metrics\n",
    "from tqdm import tqdm_notebook\n",
    "import numpy as np\n",
    "from atc.models.aml import AML\n",
    "from atc.utils.data_utils import load_df,get_data_report\n",
    "from utils.data_split import DataGet,add_diff_content\n",
    "import pickle\n",
    "from tqdm import tqdm_notebook"
   ]
  },
  {
   "cell_type": "markdown",
   "metadata": {},
   "source": [
    "## 预测多个模型结果"
   ]
  },
  {
   "cell_type": "code",
   "execution_count": 3,
   "metadata": {},
   "outputs": [],
   "source": [
    "df_wandb = pd.read_csv('data/after_preprocess/task1_cv_large.csv')\n",
    "df_wandb = df_wandb[df_wandb['State']=='finished']\n",
    "df_wandb = df_wandb.sort_values(\"AUC_Value_dev\",ascending=False)"
   ]
  },
  {
   "cell_type": "code",
   "execution_count": 6,
   "metadata": {},
   "outputs": [
    {
     "data": {
      "text/html": [
       "<div>\n",
       "<style scoped>\n",
       "    .dataframe tbody tr th:only-of-type {\n",
       "        vertical-align: middle;\n",
       "    }\n",
       "\n",
       "    .dataframe tbody tr th {\n",
       "        vertical-align: top;\n",
       "    }\n",
       "\n",
       "    .dataframe thead th {\n",
       "        text-align: right;\n",
       "    }\n",
       "</style>\n",
       "<table border=\"1\" class=\"dataframe\">\n",
       "  <thead>\n",
       "    <tr style=\"text-align: right;\">\n",
       "      <th></th>\n",
       "      <th>Name</th>\n",
       "      <th>Agent</th>\n",
       "      <th>State</th>\n",
       "      <th>Notes</th>\n",
       "      <th>User</th>\n",
       "      <th>Tags</th>\n",
       "      <th>Created</th>\n",
       "      <th>Runtime</th>\n",
       "      <th>Sweep</th>\n",
       "      <th>batch_size</th>\n",
       "      <th>...</th>\n",
       "      <th>Recall_final_dev</th>\n",
       "      <th>Recall_test</th>\n",
       "      <th>acc_final_dev</th>\n",
       "      <th>acc_test</th>\n",
       "      <th>model_final_dev</th>\n",
       "      <th>model_save_dir</th>\n",
       "      <th>score_final_dev</th>\n",
       "      <th>score_test</th>\n",
       "      <th>tradeoff_final_dev</th>\n",
       "      <th>tradeoff_test</th>\n",
       "    </tr>\n",
       "  </thead>\n",
       "  <tbody>\n",
       "    <tr>\n",
       "      <th>19</th>\n",
       "      <td>gentle-sweep-145</td>\n",
       "      <td>lt9lhzb6</td>\n",
       "      <td>finished</td>\n",
       "      <td>-</td>\n",
       "      <td>tabchen</td>\n",
       "      <td>NaN</td>\n",
       "      <td>2022-09-15T01:25:40.000Z</td>\n",
       "      <td>2477</td>\n",
       "      <td>31xks6k8</td>\n",
       "      <td>32</td>\n",
       "      <td>...</td>\n",
       "      <td>0.5152</td>\n",
       "      <td>0.0000</td>\n",
       "      <td>0.816952</td>\n",
       "      <td>0.842092</td>\n",
       "      <td>pred</td>\n",
       "      <td>model/task1/cv5/358a8e6d-3eaf-4df1-be4e-fedba3...</td>\n",
       "      <td>1.255452</td>\n",
       "      <td>1.269692</td>\n",
       "      <td>0.30</td>\n",
       "      <td>0.30</td>\n",
       "    </tr>\n",
       "    <tr>\n",
       "      <th>96</th>\n",
       "      <td>curious-sweep-68</td>\n",
       "      <td>lt9lhzb6</td>\n",
       "      <td>finished</td>\n",
       "      <td>-</td>\n",
       "      <td>tabchen</td>\n",
       "      <td>NaN</td>\n",
       "      <td>2022-09-14T05:27:29.000Z</td>\n",
       "      <td>2621</td>\n",
       "      <td>31xks6k8</td>\n",
       "      <td>32</td>\n",
       "      <td>...</td>\n",
       "      <td>0.5923</td>\n",
       "      <td>0.0228</td>\n",
       "      <td>0.793273</td>\n",
       "      <td>0.812182</td>\n",
       "      <td>pred</td>\n",
       "      <td>model/task1/cv5/1be9712d-10c8-4b72-9835-fc71ff...</td>\n",
       "      <td>1.241173</td>\n",
       "      <td>1.266382</td>\n",
       "      <td>0.22</td>\n",
       "      <td>0.22</td>\n",
       "    </tr>\n",
       "  </tbody>\n",
       "</table>\n",
       "<p>2 rows × 40 columns</p>\n",
       "</div>"
      ],
      "text/plain": [
       "                Name     Agent     State Notes     User  Tags  \\\n",
       "19  gentle-sweep-145  lt9lhzb6  finished     -  tabchen   NaN   \n",
       "96  curious-sweep-68  lt9lhzb6  finished     -  tabchen   NaN   \n",
       "\n",
       "                     Created  Runtime     Sweep  batch_size  ...  \\\n",
       "19  2022-09-15T01:25:40.000Z     2477  31xks6k8          32  ...   \n",
       "96  2022-09-14T05:27:29.000Z     2621  31xks6k8          32  ...   \n",
       "\n",
       "    Recall_final_dev  Recall_test  acc_final_dev  acc_test model_final_dev  \\\n",
       "19            0.5152       0.0000       0.816952  0.842092            pred   \n",
       "96            0.5923       0.0228       0.793273  0.812182            pred   \n",
       "\n",
       "                                       model_save_dir  score_final_dev  \\\n",
       "19  model/task1/cv5/358a8e6d-3eaf-4df1-be4e-fedba3...         1.255452   \n",
       "96  model/task1/cv5/1be9712d-10c8-4b72-9835-fc71ff...         1.241173   \n",
       "\n",
       "    score_test  tradeoff_final_dev  tradeoff_test  \n",
       "19    1.269692                0.30           0.30  \n",
       "96    1.266382                0.22           0.22  \n",
       "\n",
       "[2 rows x 40 columns]"
      ]
     },
     "execution_count": 6,
     "metadata": {},
     "output_type": "execute_result"
    }
   ],
   "source": [
    "df_wandb.head(2)"
   ]
  },
  {
   "cell_type": "code",
   "execution_count": 4,
   "metadata": {},
   "outputs": [
    {
     "data": {
      "text/html": [
       "<div>\n",
       "<style scoped>\n",
       "    .dataframe tbody tr th:only-of-type {\n",
       "        vertical-align: middle;\n",
       "    }\n",
       "\n",
       "    .dataframe tbody tr th {\n",
       "        vertical-align: top;\n",
       "    }\n",
       "\n",
       "    .dataframe thead th {\n",
       "        text-align: right;\n",
       "    }\n",
       "</style>\n",
       "<table border=\"1\" class=\"dataframe\">\n",
       "  <thead>\n",
       "    <tr style=\"text-align: right;\">\n",
       "      <th></th>\n",
       "      <th>AUC_Value_dev</th>\n",
       "    </tr>\n",
       "  </thead>\n",
       "  <tbody>\n",
       "    <tr>\n",
       "      <th>19</th>\n",
       "      <td>0.8081</td>\n",
       "    </tr>\n",
       "    <tr>\n",
       "      <th>96</th>\n",
       "      <td>0.8068</td>\n",
       "    </tr>\n",
       "    <tr>\n",
       "      <th>151</th>\n",
       "      <td>0.8063</td>\n",
       "    </tr>\n",
       "    <tr>\n",
       "      <th>154</th>\n",
       "      <td>0.8052</td>\n",
       "    </tr>\n",
       "    <tr>\n",
       "      <th>127</th>\n",
       "      <td>0.8051</td>\n",
       "    </tr>\n",
       "  </tbody>\n",
       "</table>\n",
       "</div>"
      ],
      "text/plain": [
       "     AUC_Value_dev\n",
       "19          0.8081\n",
       "96          0.8068\n",
       "151         0.8063\n",
       "154         0.8052\n",
       "127         0.8051"
      ]
     },
     "execution_count": 4,
     "metadata": {},
     "output_type": "execute_result"
    }
   ],
   "source": [
    "df_wandb.head()[['AUC_Value_dev']]"
   ]
  },
  {
   "cell_type": "code",
   "execution_count": 13,
   "metadata": {},
   "outputs": [],
   "source": [
    "up_num = 5\n",
    "down_num = 5\n",
    "kf_i = 0\n",
    "dataset = DataGet(\"data/after_preprocess/task1_charlie_train.csv\",n_splits=5)\n",
    "df_train, df_dev, df_test = dataset.get_data(\n",
    "        random_state=0, kf_i=kf_i, up_num=up_num, down_num=down_num)"
   ]
  },
  {
   "cell_type": "code",
   "execution_count": 55,
   "metadata": {},
   "outputs": [],
   "source": [
    "df_final_dev = pd.read_csv('data/after_preprocess/task1_charlie_dev.csv')\n",
    "df_final_test = pd.read_csv('data/after_preprocess/task1_charlie_test.csv')\n",
    "df_final_test['Speaker'] = df_final_test['Speaker'].fillna(\"Other\")\n",
    "df_final_test['label'] = 0"
   ]
  },
  {
   "cell_type": "code",
   "execution_count": 56,
   "metadata": {},
   "outputs": [
    {
     "data": {
      "text/plain": [
       "((1309, 12), (3258, 12), (2811, 8), (4122, 8))"
      ]
     },
     "execution_count": 56,
     "metadata": {},
     "output_type": "execute_result"
    }
   ],
   "source": [
    "df_dev.shape,df_test.shape,df_final_dev.shape,df_final_test.shape"
   ]
  },
  {
   "cell_type": "code",
   "execution_count": 57,
   "metadata": {},
   "outputs": [
    {
     "data": {
      "text/html": [
       "<div>\n",
       "<style scoped>\n",
       "    .dataframe tbody tr th:only-of-type {\n",
       "        vertical-align: middle;\n",
       "    }\n",
       "\n",
       "    .dataframe tbody tr th {\n",
       "        vertical-align: top;\n",
       "    }\n",
       "\n",
       "    .dataframe thead th {\n",
       "        text-align: right;\n",
       "    }\n",
       "</style>\n",
       "<table border=\"1\" class=\"dataframe\">\n",
       "  <thead>\n",
       "    <tr style=\"text-align: right;\">\n",
       "      <th></th>\n",
       "      <th>Id</th>\n",
       "      <th>Dialogue_id</th>\n",
       "      <th>Utterance_id</th>\n",
       "      <th>Sentence</th>\n",
       "      <th>Speaker</th>\n",
       "      <th>Label</th>\n",
       "      <th>fname</th>\n",
       "      <th>Dialogue_id_old</th>\n",
       "    </tr>\n",
       "  </thead>\n",
       "  <tbody>\n",
       "    <tr>\n",
       "      <th>0</th>\n",
       "      <td>0</td>\n",
       "      <td>Charlie_S01E08.csv_1</td>\n",
       "      <td>0</td>\n",
       "      <td>Well, Charlie, today is a very special day.</td>\n",
       "      <td>Teddy</td>\n",
       "      <td>0.0</td>\n",
       "      <td>Charlie_S01E08.csv</td>\n",
       "      <td>1</td>\n",
       "    </tr>\n",
       "    <tr>\n",
       "      <th>1</th>\n",
       "      <td>1</td>\n",
       "      <td>Charlie_S01E08.csv_1</td>\n",
       "      <td>1</td>\n",
       "      <td>It's your first birthday! The whole family's e...</td>\n",
       "      <td>Teddy</td>\n",
       "      <td>0.0</td>\n",
       "      <td>Charlie_S01E08.csv</td>\n",
       "      <td>1</td>\n",
       "    </tr>\n",
       "    <tr>\n",
       "      <th>2</th>\n",
       "      <td>2</td>\n",
       "      <td>Charlie_S01E08.csv_1</td>\n",
       "      <td>2</td>\n",
       "      <td>Happy Birthday, sweetie.</td>\n",
       "      <td>Amy</td>\n",
       "      <td>0.0</td>\n",
       "      <td>Charlie_S01E08.csv</td>\n",
       "      <td>1</td>\n",
       "    </tr>\n",
       "    <tr>\n",
       "      <th>3</th>\n",
       "      <td>3</td>\n",
       "      <td>Charlie_S01E08.csv_1</td>\n",
       "      <td>3</td>\n",
       "      <td>I love you, baby girl.</td>\n",
       "      <td>Bob</td>\n",
       "      <td>0.0</td>\n",
       "      <td>Charlie_S01E08.csv</td>\n",
       "      <td>1</td>\n",
       "    </tr>\n",
       "    <tr>\n",
       "      <th>4</th>\n",
       "      <td>4</td>\n",
       "      <td>Charlie_S01E08.csv_1</td>\n",
       "      <td>4</td>\n",
       "      <td>You're the best.</td>\n",
       "      <td>PJ</td>\n",
       "      <td>0.0</td>\n",
       "      <td>Charlie_S01E08.csv</td>\n",
       "      <td>1</td>\n",
       "    </tr>\n",
       "    <tr>\n",
       "      <th>...</th>\n",
       "      <td>...</td>\n",
       "      <td>...</td>\n",
       "      <td>...</td>\n",
       "      <td>...</td>\n",
       "      <td>...</td>\n",
       "      <td>...</td>\n",
       "      <td>...</td>\n",
       "      <td>...</td>\n",
       "    </tr>\n",
       "    <tr>\n",
       "      <th>2806</th>\n",
       "      <td>301</td>\n",
       "      <td>Charlie_S02E05.csv_17</td>\n",
       "      <td>0</td>\n",
       "      <td>So elegant, so poised.</td>\n",
       "      <td>Others</td>\n",
       "      <td>0.0</td>\n",
       "      <td>Charlie_S02E05.csv</td>\n",
       "      <td>17</td>\n",
       "    </tr>\n",
       "    <tr>\n",
       "      <th>2807</th>\n",
       "      <td>302</td>\n",
       "      <td>Charlie_S02E05.csv_17</td>\n",
       "      <td>1</td>\n",
       "      <td>Such sophistication.</td>\n",
       "      <td>Others</td>\n",
       "      <td>0.0</td>\n",
       "      <td>Charlie_S02E05.csv</td>\n",
       "      <td>17</td>\n",
       "    </tr>\n",
       "    <tr>\n",
       "      <th>2808</th>\n",
       "      <td>303</td>\n",
       "      <td>Charlie_S02E05.csv_17</td>\n",
       "      <td>2</td>\n",
       "      <td>Our finest pupil ever, Mrs.Krump.</td>\n",
       "      <td>Others</td>\n",
       "      <td>0.0</td>\n",
       "      <td>Charlie_S02E05.csv</td>\n",
       "      <td>17</td>\n",
       "    </tr>\n",
       "    <tr>\n",
       "      <th>2809</th>\n",
       "      <td>304</td>\n",
       "      <td>Charlie_S02E05.csv_17</td>\n",
       "      <td>3</td>\n",
       "      <td>Uh-oh.</td>\n",
       "      <td>Charlie</td>\n",
       "      <td>0.0</td>\n",
       "      <td>Charlie_S02E05.csv</td>\n",
       "      <td>17</td>\n",
       "    </tr>\n",
       "    <tr>\n",
       "      <th>2810</th>\n",
       "      <td>305</td>\n",
       "      <td>Charlie_S02E05.csv_17</td>\n",
       "      <td>4</td>\n",
       "      <td>She's the last of the Duncan kids, right, Mrs....</td>\n",
       "      <td>Others</td>\n",
       "      <td>1.0</td>\n",
       "      <td>Charlie_S02E05.csv</td>\n",
       "      <td>17</td>\n",
       "    </tr>\n",
       "  </tbody>\n",
       "</table>\n",
       "<p>2811 rows × 8 columns</p>\n",
       "</div>"
      ],
      "text/plain": [
       "       Id            Dialogue_id  Utterance_id  \\\n",
       "0       0   Charlie_S01E08.csv_1             0   \n",
       "1       1   Charlie_S01E08.csv_1             1   \n",
       "2       2   Charlie_S01E08.csv_1             2   \n",
       "3       3   Charlie_S01E08.csv_1             3   \n",
       "4       4   Charlie_S01E08.csv_1             4   \n",
       "...   ...                    ...           ...   \n",
       "2806  301  Charlie_S02E05.csv_17             0   \n",
       "2807  302  Charlie_S02E05.csv_17             1   \n",
       "2808  303  Charlie_S02E05.csv_17             2   \n",
       "2809  304  Charlie_S02E05.csv_17             3   \n",
       "2810  305  Charlie_S02E05.csv_17             4   \n",
       "\n",
       "                                               Sentence  Speaker  Label  \\\n",
       "0           Well, Charlie, today is a very special day.    Teddy    0.0   \n",
       "1     It's your first birthday! The whole family's e...    Teddy    0.0   \n",
       "2                              Happy Birthday, sweetie.      Amy    0.0   \n",
       "3                                I love you, baby girl.      Bob    0.0   \n",
       "4                                      You're the best.       PJ    0.0   \n",
       "...                                                 ...      ...    ...   \n",
       "2806                             So elegant, so poised.   Others    0.0   \n",
       "2807                               Such sophistication.   Others    0.0   \n",
       "2808                  Our finest pupil ever, Mrs.Krump.   Others    0.0   \n",
       "2809                                             Uh-oh.  Charlie    0.0   \n",
       "2810  She's the last of the Duncan kids, right, Mrs....   Others    1.0   \n",
       "\n",
       "                   fname  Dialogue_id_old  \n",
       "0     Charlie_S01E08.csv                1  \n",
       "1     Charlie_S01E08.csv                1  \n",
       "2     Charlie_S01E08.csv                1  \n",
       "3     Charlie_S01E08.csv                1  \n",
       "4     Charlie_S01E08.csv                1  \n",
       "...                  ...              ...  \n",
       "2806  Charlie_S02E05.csv               17  \n",
       "2807  Charlie_S02E05.csv               17  \n",
       "2808  Charlie_S02E05.csv               17  \n",
       "2809  Charlie_S02E05.csv               17  \n",
       "2810  Charlie_S02E05.csv               17  \n",
       "\n",
       "[2811 rows x 8 columns]"
      ]
     },
     "execution_count": 57,
     "metadata": {},
     "output_type": "execute_result"
    }
   ],
   "source": [
    "df_final_dev"
   ]
  },
  {
   "cell_type": "code",
   "execution_count": 65,
   "metadata": {},
   "outputs": [],
   "source": [
    "df_list = [df_dev,df_test,df_final_dev,df_final_test]"
   ]
  },
  {
   "cell_type": "code",
   "execution_count": 66,
   "metadata": {},
   "outputs": [],
   "source": [
    "after_process_dir = 'model/task1/final_merge/'"
   ]
  },
  {
   "cell_type": "code",
   "execution_count": null,
   "metadata": {
    "scrolled": true
   },
   "outputs": [
    {
     "data": {
      "application/vnd.jupyter.widget-view+json": {
       "model_id": "8f1d9dcf00014c70bbae579a741baf41",
       "version_major": 2,
       "version_minor": 0
      },
      "text/plain": [
       "0it [00:00, ?it/s]"
      ]
     },
     "metadata": {},
     "output_type": "display_data"
    },
    {
     "name": "stderr",
     "output_type": "stream",
     "text": [
      "\n",
      "  0%|          | 0/1 [00:00<?, ?it/s]\u001b[A"
     ]
    },
    {
     "name": "stdout",
     "output_type": "stream",
     "text": [
      "config is :{'model_dir': '/root/autodl-nas/tabchen/auto_text_classifier/atc/configs/../data/en_deberta_v3_large', 'save_dir': 'model/task1/cv5/358a8e6d-3eaf-4df1-be4e-fedba3e6d6bc/en_deberta_v3_large', 'max_len': 256, 'batch_size': 64}\n",
      "Training use origin loss ~~\n",
      "Load model\n",
      "Load finish\n"
     ]
    },
    {
     "name": "stderr",
     "output_type": "stream",
     "text": [
      "\n",
      "100%|██████████| 1/1 [02:16<00:00, 136.21s/it]\u001b[A"
     ]
    },
    {
     "name": "stdout",
     "output_type": "stream",
     "text": [
      "Release model\n"
     ]
    },
    {
     "name": "stderr",
     "output_type": "stream",
     "text": [
      "\n",
      "\n",
      "  0%|          | 0/1 [00:00<?, ?it/s]\u001b[A"
     ]
    },
    {
     "name": "stdout",
     "output_type": "stream",
     "text": [
      "config is :{'model_dir': '/root/autodl-nas/tabchen/auto_text_classifier/atc/configs/../data/en_deberta_large', 'save_dir': 'model/task1/cv5/1be9712d-10c8-4b72-9835-fc71ff43eec7/en_deberta_large', 'max_len': 256, 'batch_size': 64}\n",
      "Training use origin loss ~~\n",
      "Load model\n",
      "Load finish\n"
     ]
    },
    {
     "name": "stderr",
     "output_type": "stream",
     "text": [
      "\n",
      "100%|██████████| 1/1 [02:25<00:00, 145.09s/it]\u001b[A"
     ]
    },
    {
     "name": "stdout",
     "output_type": "stream",
     "text": [
      "Release model\n"
     ]
    },
    {
     "name": "stderr",
     "output_type": "stream",
     "text": [
      "\n",
      "\n",
      "  0%|          | 0/1 [00:00<?, ?it/s]\u001b[A"
     ]
    },
    {
     "name": "stdout",
     "output_type": "stream",
     "text": [
      "config is :{'model_dir': '/root/autodl-nas/tabchen/auto_text_classifier/atc/configs/../data/en_deberta_v3_large', 'save_dir': 'model/task1/cv5/e991c3ca-947a-417e-a4fb-78660c3927dc/en_deberta_v3_large', 'max_len': 256, 'batch_size': 64}\n",
      "Training use origin loss ~~\n",
      "Load model\n",
      "Load finish\n"
     ]
    },
    {
     "name": "stderr",
     "output_type": "stream",
     "text": [
      "\n",
      "100%|██████████| 1/1 [02:16<00:00, 136.13s/it]\u001b[A"
     ]
    },
    {
     "name": "stdout",
     "output_type": "stream",
     "text": [
      "Release model\n"
     ]
    },
    {
     "name": "stderr",
     "output_type": "stream",
     "text": [
      "\n",
      "\n",
      "  0%|          | 0/1 [00:00<?, ?it/s]\u001b[A"
     ]
    },
    {
     "name": "stdout",
     "output_type": "stream",
     "text": [
      "config is :{'model_dir': '/root/autodl-nas/tabchen/auto_text_classifier/atc/configs/../data/en_deberta_large', 'save_dir': 'model/task1/cv5/3e3d10e1-b4f0-43d5-af1d-919ac73bfc77/en_deberta_large', 'max_len': 256, 'batch_size': 64}\n",
      "Training use origin loss ~~\n",
      "Load model\n",
      "Load finish\n"
     ]
    },
    {
     "name": "stderr",
     "output_type": "stream",
     "text": [
      "\n",
      "100%|██████████| 1/1 [02:27<00:00, 147.14s/it]\u001b[A"
     ]
    },
    {
     "name": "stdout",
     "output_type": "stream",
     "text": [
      "Release model\n"
     ]
    },
    {
     "name": "stderr",
     "output_type": "stream",
     "text": [
      "\n",
      "\n",
      "  0%|          | 0/1 [00:00<?, ?it/s]\u001b[A"
     ]
    },
    {
     "name": "stdout",
     "output_type": "stream",
     "text": [
      "config is :{'model_dir': '/root/autodl-nas/tabchen/auto_text_classifier/atc/configs/../data/en_deberta_large', 'save_dir': 'model/task1/cv5/22a4e23c-d468-453d-aba4-5a1aa276f2ec/en_deberta_large', 'max_len': 256, 'batch_size': 64}\n",
      "Training use origin loss ~~\n",
      "Load model\n",
      "Load finish\n"
     ]
    },
    {
     "name": "stderr",
     "output_type": "stream",
     "text": [
      "\n",
      "100%|██████████| 1/1 [02:28<00:00, 148.31s/it]\u001b[A"
     ]
    },
    {
     "name": "stdout",
     "output_type": "stream",
     "text": [
      "Release model\n"
     ]
    },
    {
     "name": "stderr",
     "output_type": "stream",
     "text": [
      "\n",
      "\n",
      "  0%|          | 0/1 [00:00<?, ?it/s]\u001b[A"
     ]
    },
    {
     "name": "stdout",
     "output_type": "stream",
     "text": [
      "config is :{'model_dir': '/root/autodl-nas/tabchen/auto_text_classifier/atc/configs/../data/en_deberta_v3_large', 'save_dir': 'model/task1/cv5/bc8b7562-33c3-4c08-b6da-1d250f797a64/en_deberta_v3_large', 'max_len': 256, 'batch_size': 64}\n",
      "Training use origin loss ~~\n",
      "Load model\n",
      "Load finish\n"
     ]
    },
    {
     "name": "stderr",
     "output_type": "stream",
     "text": [
      "\n",
      "100%|██████████| 1/1 [02:16<00:00, 136.47s/it]\u001b[A"
     ]
    },
    {
     "name": "stdout",
     "output_type": "stream",
     "text": [
      "Release model\n"
     ]
    },
    {
     "name": "stderr",
     "output_type": "stream",
     "text": [
      "\n",
      "\n",
      "  0%|          | 0/1 [00:00<?, ?it/s]\u001b[A"
     ]
    },
    {
     "name": "stdout",
     "output_type": "stream",
     "text": [
      "config is :{'model_dir': '/root/autodl-nas/tabchen/auto_text_classifier/atc/configs/../data/en_deberta_large', 'save_dir': 'model/task1/cv5/b29a0a63-906a-409a-af50-80563fd5e129/en_deberta_large', 'max_len': 256, 'batch_size': 64}\n",
      "Training use origin loss ~~\n",
      "Load model\n",
      "Load finish\n"
     ]
    }
   ],
   "source": [
    "for _,row in tqdm_notebook(df_wandb[:2].iterrows()):\n",
    "    up_num = row['up_num']\n",
    "    down_num = row['down_num']\n",
    "    df_list = [add_diff_content(df,up_num,down_num) for df in df_list]\n",
    "    model_name = row['model_name']\n",
    "    \n",
    "    ai = AML(save_dir=row['model_save_dir'].replace(model_name,\"\"), config={\"max_len\": 256, \"batch_size\": 64})\n",
    "    df_list = ai.get_list_result(\n",
    "        df_list, model_list=[model_name])\n",
    "    with open(os.path.join(after_process_dir,f\"{row['Name']}.pkl\"),'wb') as f:\n",
    "        pickle.dump(df_list,f)"
   ]
  },
  {
   "cell_type": "code",
   "execution_count": null,
   "metadata": {},
   "outputs": [],
   "source": []
  },
  {
   "cell_type": "markdown",
   "metadata": {},
   "source": [
    "## 汇总最终结果"
   ]
  },
  {
   "cell_type": "code",
   "execution_count": 3,
   "metadata": {},
   "outputs": [],
   "source": [
    "df_wandb = pd.read_csv('data/after_preprocess/task1_cv_large.csv')\n",
    "df_wandb = df_wandb[df_wandb['State']=='finished']\n",
    "df_wandb = df_wandb.sort_values(\"AUC_Value_dev\",ascending=False)"
   ]
  },
  {
   "cell_type": "code",
   "execution_count": 4,
   "metadata": {
    "code_folding": [
     0
    ],
    "scrolled": true
   },
   "outputs": [
    {
     "name": "stderr",
     "output_type": "stream",
     "text": [
      "Using TensorFlow backend.\n",
      "2022-09-25 09:50:56.202557: I tensorflow/core/platform/cpu_feature_guard.cc:143] Your CPU supports instructions that this TensorFlow binary was not compiled to use: AVX2 AVX512F FMA\n",
      "2022-09-25 09:50:56.232938: I tensorflow/core/platform/profile_utils/cpu_utils.cc:102] CPU Frequency: 2000000000 Hz\n",
      "2022-09-25 09:50:56.244839: I tensorflow/compiler/xla/service/service.cc:168] XLA service 0x7f4b74000b20 initialized for platform Host (this does not guarantee that XLA will be used). Devices:\n",
      "2022-09-25 09:50:56.244876: I tensorflow/compiler/xla/service/service.cc:176]   StreamExecutor device (0): Host, Default Version\n",
      "2022-09-25 09:50:56.248668: I tensorflow/stream_executor/platform/default/dso_loader.cc:44] Successfully opened dynamic library libcuda.so.1\n",
      "2022-09-25 09:50:56.262808: I tensorflow/core/common_runtime/gpu/gpu_device.cc:1561] Found device 0 with properties: \n",
      "pciBusID: 0000:52:00.0 name: NVIDIA RTX A5000 computeCapability: 8.6\n",
      "coreClock: 1.695GHz coreCount: 64 deviceMemorySize: 23.69GiB deviceMemoryBandwidth: 715.34GiB/s\n",
      "2022-09-25 09:50:56.262955: W tensorflow/stream_executor/platform/default/dso_loader.cc:55] Could not load dynamic library 'libcudart.so.10.1'; dlerror: libcudart.so.10.1: cannot open shared object file: No such file or directory; LD_LIBRARY_PATH: /usr/local/nvidia/lib:/usr/local/nvidia/lib64\n",
      "2022-09-25 09:50:56.263056: W tensorflow/stream_executor/platform/default/dso_loader.cc:55] Could not load dynamic library 'libcublas.so.10'; dlerror: libcublas.so.10: cannot open shared object file: No such file or directory; LD_LIBRARY_PATH: /usr/local/nvidia/lib:/usr/local/nvidia/lib64\n",
      "2022-09-25 09:50:56.264870: I tensorflow/stream_executor/platform/default/dso_loader.cc:44] Successfully opened dynamic library libcufft.so.10\n",
      "2022-09-25 09:50:56.266280: I tensorflow/stream_executor/platform/default/dso_loader.cc:44] Successfully opened dynamic library libcurand.so.10\n",
      "2022-09-25 09:50:56.266406: W tensorflow/stream_executor/platform/default/dso_loader.cc:55] Could not load dynamic library 'libcusolver.so.10'; dlerror: libcusolver.so.10: cannot open shared object file: No such file or directory; LD_LIBRARY_PATH: /usr/local/nvidia/lib:/usr/local/nvidia/lib64\n",
      "2022-09-25 09:50:56.266497: W tensorflow/stream_executor/platform/default/dso_loader.cc:55] Could not load dynamic library 'libcusparse.so.10'; dlerror: libcusparse.so.10: cannot open shared object file: No such file or directory; LD_LIBRARY_PATH: /usr/local/nvidia/lib:/usr/local/nvidia/lib64\n",
      "2022-09-25 09:50:56.266585: W tensorflow/stream_executor/platform/default/dso_loader.cc:55] Could not load dynamic library 'libcudnn.so.7'; dlerror: libcudnn.so.7: cannot open shared object file: No such file or directory; LD_LIBRARY_PATH: /usr/local/nvidia/lib:/usr/local/nvidia/lib64\n",
      "2022-09-25 09:50:56.266594: W tensorflow/core/common_runtime/gpu/gpu_device.cc:1598] Cannot dlopen some GPU libraries. Please make sure the missing libraries mentioned above are installed properly if you would like to use GPU. Follow the guide at https://www.tensorflow.org/install/gpu for how to download and setup the required libraries for your platform.\n",
      "Skipping registering GPU devices...\n",
      "2022-09-25 09:50:56.473661: I tensorflow/core/common_runtime/gpu/gpu_device.cc:1102] Device interconnect StreamExecutor with strength 1 edge matrix:\n",
      "2022-09-25 09:50:56.473688: I tensorflow/core/common_runtime/gpu/gpu_device.cc:1108]      0 \n",
      "2022-09-25 09:50:56.473694: I tensorflow/core/common_runtime/gpu/gpu_device.cc:1121] 0:   N \n",
      "2022-09-25 09:50:56.478144: I tensorflow/compiler/xla/service/service.cc:168] XLA service 0x55d587542770 initialized for platform CUDA (this does not guarantee that XLA will be used). Devices:\n",
      "2022-09-25 09:50:56.478162: I tensorflow/compiler/xla/service/service.cc:176]   StreamExecutor device (0): NVIDIA RTX A5000, Compute Capability 8.6\n"
     ]
    }
   ],
   "source": [
    "from utils.metrics import *"
   ]
  },
  {
   "cell_type": "code",
   "execution_count": 5,
   "metadata": {},
   "outputs": [],
   "source": [
    "after_process_dir = 'model/task1/final_merge/'"
   ]
  },
  {
   "cell_type": "code",
   "execution_count": 6,
   "metadata": {},
   "outputs": [],
   "source": [
    "def get_new_df(num_models):\n",
    "    name_list = []\n",
    "    new_df_list = []\n",
    "    for _,row in tqdm_notebook(df_wandb[:num_models].iterrows()):\n",
    "        name = row['Name']\n",
    "        name_list.append(name)\n",
    "        df_list = pickle.load(open(os.path.join(after_process_dir,f\"{row['Name']}.pkl\"),'rb'))\n",
    "        for i,df in enumerate(df_list):\n",
    "            if 'Label' in df.columns:\n",
    "                df['label'] = df['Label']\n",
    "            df[name] = df[row['model_name']]\n",
    "            if len(new_df_list)<len(df_list):\n",
    "                new_df_list.append(df)\n",
    "            else:\n",
    "                new_df_list[i][name] = df[name]\n",
    "    return new_df_list,name_list"
   ]
  },
  {
   "cell_type": "code",
   "execution_count": 7,
   "metadata": {},
   "outputs": [],
   "source": [
    "def get_scores(new_df_list,name_list):\n",
    "    df_score_list = []\n",
    "    for df in new_df_list:\n",
    "        df['merge_mean'] = df[name_list].mean(axis=1)\n",
    "        df_merge_score = search_model(df, model_list=['merge_mean'])\n",
    "        df_score_list.append(df_merge_score)\n",
    "    tradeoff = df_score_list[0].drop_duplicates(\"model\").iloc[0]['tradeoff']\n",
    "    test_score = df_score_list[1][df_score_list[1]['tradeoff']==tradeoff].iloc[0]['score']\n",
    "    final_dev_score = df_score_list[2][df_score_list[2]['tradeoff']==tradeoff].iloc[0]['score']\n",
    "    scores = {\"test_score\":test_score,\"final_dev_score\":final_dev_score,\"tradeoff\":tradeoff}\n",
    "    return scores"
   ]
  },
  {
   "cell_type": "code",
   "execution_count": 8,
   "metadata": {
    "scrolled": true,
    "tags": []
   },
   "outputs": [
    {
     "data": {
      "application/vnd.jupyter.widget-view+json": {
       "model_id": "52ec6dea190743f68fd7242692748de0",
       "version_major": 2,
       "version_minor": 0
      },
      "text/plain": [
       "0it [00:00, ?it/s]"
      ]
     },
     "metadata": {},
     "output_type": "display_data"
    },
    {
     "data": {
      "application/vnd.jupyter.widget-view+json": {
       "model_id": "5f4ba9579b914dfbb71c959fabb59d56",
       "version_major": 2,
       "version_minor": 0
      },
      "text/plain": [
       "  0%|          | 0/1 [00:00<?, ?it/s]"
      ]
     },
     "metadata": {},
     "output_type": "display_data"
    },
    {
     "data": {
      "application/vnd.jupyter.widget-view+json": {
       "model_id": "f692657a1c2847a38cb7452712a7856e",
       "version_major": 2,
       "version_minor": 0
      },
      "text/plain": [
       "  0%|          | 0/1 [00:00<?, ?it/s]"
      ]
     },
     "metadata": {},
     "output_type": "display_data"
    },
    {
     "data": {
      "application/vnd.jupyter.widget-view+json": {
       "model_id": "43353b377ff3415baae10f932bacc049",
       "version_major": 2,
       "version_minor": 0
      },
      "text/plain": [
       "  0%|          | 0/1 [00:00<?, ?it/s]"
      ]
     },
     "metadata": {},
     "output_type": "display_data"
    },
    {
     "data": {
      "application/vnd.jupyter.widget-view+json": {
       "model_id": "b4f11866770a4adda55b511703e0f7e6",
       "version_major": 2,
       "version_minor": 0
      },
      "text/plain": [
       "  0%|          | 0/1 [00:00<?, ?it/s]"
      ]
     },
     "metadata": {},
     "output_type": "display_data"
    },
    {
     "data": {
      "application/vnd.jupyter.widget-view+json": {
       "model_id": "b99f425d91a94dcb952baef96a9aebef",
       "version_major": 2,
       "version_minor": 0
      },
      "text/plain": [
       "0it [00:00, ?it/s]"
      ]
     },
     "metadata": {},
     "output_type": "display_data"
    },
    {
     "data": {
      "application/vnd.jupyter.widget-view+json": {
       "model_id": "d307a50fe3854095a520d35a52c1ceff",
       "version_major": 2,
       "version_minor": 0
      },
      "text/plain": [
       "  0%|          | 0/1 [00:00<?, ?it/s]"
      ]
     },
     "metadata": {},
     "output_type": "display_data"
    },
    {
     "data": {
      "application/vnd.jupyter.widget-view+json": {
       "model_id": "348b3245bd044a1d8dc484a202fcc12d",
       "version_major": 2,
       "version_minor": 0
      },
      "text/plain": [
       "  0%|          | 0/1 [00:00<?, ?it/s]"
      ]
     },
     "metadata": {},
     "output_type": "display_data"
    },
    {
     "data": {
      "application/vnd.jupyter.widget-view+json": {
       "model_id": "317e2647e1a941c488d018e130f68957",
       "version_major": 2,
       "version_minor": 0
      },
      "text/plain": [
       "  0%|          | 0/1 [00:00<?, ?it/s]"
      ]
     },
     "metadata": {},
     "output_type": "display_data"
    },
    {
     "data": {
      "application/vnd.jupyter.widget-view+json": {
       "model_id": "ec0f798a0c56466dbc406985f6ce053a",
       "version_major": 2,
       "version_minor": 0
      },
      "text/plain": [
       "  0%|          | 0/1 [00:00<?, ?it/s]"
      ]
     },
     "metadata": {},
     "output_type": "display_data"
    },
    {
     "data": {
      "application/vnd.jupyter.widget-view+json": {
       "model_id": "a154845ac708497e82d1ae6f6efb7d34",
       "version_major": 2,
       "version_minor": 0
      },
      "text/plain": [
       "0it [00:00, ?it/s]"
      ]
     },
     "metadata": {},
     "output_type": "display_data"
    },
    {
     "data": {
      "application/vnd.jupyter.widget-view+json": {
       "model_id": "0f4fe15f6e7442c8917d414e0ed6e248",
       "version_major": 2,
       "version_minor": 0
      },
      "text/plain": [
       "  0%|          | 0/1 [00:00<?, ?it/s]"
      ]
     },
     "metadata": {},
     "output_type": "display_data"
    },
    {
     "data": {
      "application/vnd.jupyter.widget-view+json": {
       "model_id": "e82954f9b23649baa1ccc5b10a7347b7",
       "version_major": 2,
       "version_minor": 0
      },
      "text/plain": [
       "  0%|          | 0/1 [00:00<?, ?it/s]"
      ]
     },
     "metadata": {},
     "output_type": "display_data"
    },
    {
     "data": {
      "application/vnd.jupyter.widget-view+json": {
       "model_id": "1e2d8e7abe84453ebe9d7e69a0b3491f",
       "version_major": 2,
       "version_minor": 0
      },
      "text/plain": [
       "  0%|          | 0/1 [00:00<?, ?it/s]"
      ]
     },
     "metadata": {},
     "output_type": "display_data"
    },
    {
     "data": {
      "application/vnd.jupyter.widget-view+json": {
       "model_id": "f90b02ae39a54f2ead4aa1711608d703",
       "version_major": 2,
       "version_minor": 0
      },
      "text/plain": [
       "  0%|          | 0/1 [00:00<?, ?it/s]"
      ]
     },
     "metadata": {},
     "output_type": "display_data"
    },
    {
     "data": {
      "application/vnd.jupyter.widget-view+json": {
       "model_id": "d20c9b8b9b634b59a82e0961b3ddaa04",
       "version_major": 2,
       "version_minor": 0
      },
      "text/plain": [
       "0it [00:00, ?it/s]"
      ]
     },
     "metadata": {},
     "output_type": "display_data"
    },
    {
     "data": {
      "application/vnd.jupyter.widget-view+json": {
       "model_id": "0fa4d28633c34a049d03220998f72aec",
       "version_major": 2,
       "version_minor": 0
      },
      "text/plain": [
       "  0%|          | 0/1 [00:00<?, ?it/s]"
      ]
     },
     "metadata": {},
     "output_type": "display_data"
    },
    {
     "data": {
      "application/vnd.jupyter.widget-view+json": {
       "model_id": "e4fee215e5e64472bee9474d08e77702",
       "version_major": 2,
       "version_minor": 0
      },
      "text/plain": [
       "  0%|          | 0/1 [00:00<?, ?it/s]"
      ]
     },
     "metadata": {},
     "output_type": "display_data"
    },
    {
     "data": {
      "application/vnd.jupyter.widget-view+json": {
       "model_id": "14e81e99b5ff48939ca90da86c14929e",
       "version_major": 2,
       "version_minor": 0
      },
      "text/plain": [
       "  0%|          | 0/1 [00:00<?, ?it/s]"
      ]
     },
     "metadata": {},
     "output_type": "display_data"
    },
    {
     "data": {
      "application/vnd.jupyter.widget-view+json": {
       "model_id": "a4277373d5ec46d496a19524d0db7b16",
       "version_major": 2,
       "version_minor": 0
      },
      "text/plain": [
       "  0%|          | 0/1 [00:00<?, ?it/s]"
      ]
     },
     "metadata": {},
     "output_type": "display_data"
    },
    {
     "data": {
      "application/vnd.jupyter.widget-view+json": {
       "model_id": "aadbd60d5e754ebe9d17a5117dea5d1b",
       "version_major": 2,
       "version_minor": 0
      },
      "text/plain": [
       "0it [00:00, ?it/s]"
      ]
     },
     "metadata": {},
     "output_type": "display_data"
    },
    {
     "data": {
      "application/vnd.jupyter.widget-view+json": {
       "model_id": "3a1306f51934489c9601c497381126f2",
       "version_major": 2,
       "version_minor": 0
      },
      "text/plain": [
       "  0%|          | 0/1 [00:00<?, ?it/s]"
      ]
     },
     "metadata": {},
     "output_type": "display_data"
    },
    {
     "data": {
      "application/vnd.jupyter.widget-view+json": {
       "model_id": "40894f4b5a9043849bd3e365404ad447",
       "version_major": 2,
       "version_minor": 0
      },
      "text/plain": [
       "  0%|          | 0/1 [00:00<?, ?it/s]"
      ]
     },
     "metadata": {},
     "output_type": "display_data"
    },
    {
     "data": {
      "application/vnd.jupyter.widget-view+json": {
       "model_id": "175bbbc172504f10b3ee7337e2d51918",
       "version_major": 2,
       "version_minor": 0
      },
      "text/plain": [
       "  0%|          | 0/1 [00:00<?, ?it/s]"
      ]
     },
     "metadata": {},
     "output_type": "display_data"
    },
    {
     "data": {
      "application/vnd.jupyter.widget-view+json": {
       "model_id": "892398c3fe4d4da091a1a69b49a7068f",
       "version_major": 2,
       "version_minor": 0
      },
      "text/plain": [
       "  0%|          | 0/1 [00:00<?, ?it/s]"
      ]
     },
     "metadata": {},
     "output_type": "display_data"
    },
    {
     "data": {
      "application/vnd.jupyter.widget-view+json": {
       "model_id": "adfdfb6db98f47e0aa28b146c8ddf08e",
       "version_major": 2,
       "version_minor": 0
      },
      "text/plain": [
       "0it [00:00, ?it/s]"
      ]
     },
     "metadata": {},
     "output_type": "display_data"
    },
    {
     "data": {
      "application/vnd.jupyter.widget-view+json": {
       "model_id": "1bdd3e51ef2148938b661e173ef7b0bc",
       "version_major": 2,
       "version_minor": 0
      },
      "text/plain": [
       "  0%|          | 0/1 [00:00<?, ?it/s]"
      ]
     },
     "metadata": {},
     "output_type": "display_data"
    },
    {
     "data": {
      "application/vnd.jupyter.widget-view+json": {
       "model_id": "07e90e97ccc543c986c97444ffeb9b74",
       "version_major": 2,
       "version_minor": 0
      },
      "text/plain": [
       "  0%|          | 0/1 [00:00<?, ?it/s]"
      ]
     },
     "metadata": {},
     "output_type": "display_data"
    },
    {
     "data": {
      "application/vnd.jupyter.widget-view+json": {
       "model_id": "3c7e78720b35482f9d0067bf346b1fec",
       "version_major": 2,
       "version_minor": 0
      },
      "text/plain": [
       "  0%|          | 0/1 [00:00<?, ?it/s]"
      ]
     },
     "metadata": {},
     "output_type": "display_data"
    },
    {
     "data": {
      "application/vnd.jupyter.widget-view+json": {
       "model_id": "33d10a7b6da345758477ad4dcf706973",
       "version_major": 2,
       "version_minor": 0
      },
      "text/plain": [
       "  0%|          | 0/1 [00:00<?, ?it/s]"
      ]
     },
     "metadata": {},
     "output_type": "display_data"
    },
    {
     "data": {
      "application/vnd.jupyter.widget-view+json": {
       "model_id": "fd250184bf0745adaba9deb1febe8af0",
       "version_major": 2,
       "version_minor": 0
      },
      "text/plain": [
       "0it [00:00, ?it/s]"
      ]
     },
     "metadata": {},
     "output_type": "display_data"
    },
    {
     "data": {
      "application/vnd.jupyter.widget-view+json": {
       "model_id": "338d04723a1546c4b03769ccba262978",
       "version_major": 2,
       "version_minor": 0
      },
      "text/plain": [
       "  0%|          | 0/1 [00:00<?, ?it/s]"
      ]
     },
     "metadata": {},
     "output_type": "display_data"
    },
    {
     "data": {
      "application/vnd.jupyter.widget-view+json": {
       "model_id": "dc264c32cc22481bb79b092800f882ca",
       "version_major": 2,
       "version_minor": 0
      },
      "text/plain": [
       "  0%|          | 0/1 [00:00<?, ?it/s]"
      ]
     },
     "metadata": {},
     "output_type": "display_data"
    },
    {
     "data": {
      "application/vnd.jupyter.widget-view+json": {
       "model_id": "c77a3bf986574742ba28d892e1f4217d",
       "version_major": 2,
       "version_minor": 0
      },
      "text/plain": [
       "  0%|          | 0/1 [00:00<?, ?it/s]"
      ]
     },
     "metadata": {},
     "output_type": "display_data"
    },
    {
     "data": {
      "application/vnd.jupyter.widget-view+json": {
       "model_id": "f193cb5b04234fa6881508a7b0e998bd",
       "version_major": 2,
       "version_minor": 0
      },
      "text/plain": [
       "  0%|          | 0/1 [00:00<?, ?it/s]"
      ]
     },
     "metadata": {},
     "output_type": "display_data"
    },
    {
     "data": {
      "application/vnd.jupyter.widget-view+json": {
       "model_id": "7507be9b9ac849f08b443648c4e4d6f7",
       "version_major": 2,
       "version_minor": 0
      },
      "text/plain": [
       "0it [00:00, ?it/s]"
      ]
     },
     "metadata": {},
     "output_type": "display_data"
    },
    {
     "data": {
      "application/vnd.jupyter.widget-view+json": {
       "model_id": "a07b29ece2b84491b33427cd993e515c",
       "version_major": 2,
       "version_minor": 0
      },
      "text/plain": [
       "  0%|          | 0/1 [00:00<?, ?it/s]"
      ]
     },
     "metadata": {},
     "output_type": "display_data"
    },
    {
     "data": {
      "application/vnd.jupyter.widget-view+json": {
       "model_id": "4f6e7a22ac9341bb8cae0d43e02ba10c",
       "version_major": 2,
       "version_minor": 0
      },
      "text/plain": [
       "  0%|          | 0/1 [00:00<?, ?it/s]"
      ]
     },
     "metadata": {},
     "output_type": "display_data"
    },
    {
     "data": {
      "application/vnd.jupyter.widget-view+json": {
       "model_id": "d39cb5cc994b4bc7925c06b6534930c3",
       "version_major": 2,
       "version_minor": 0
      },
      "text/plain": [
       "  0%|          | 0/1 [00:00<?, ?it/s]"
      ]
     },
     "metadata": {},
     "output_type": "display_data"
    },
    {
     "data": {
      "application/vnd.jupyter.widget-view+json": {
       "model_id": "b0697fca11f14b87bf238f0035a79058",
       "version_major": 2,
       "version_minor": 0
      },
      "text/plain": [
       "  0%|          | 0/1 [00:00<?, ?it/s]"
      ]
     },
     "metadata": {},
     "output_type": "display_data"
    },
    {
     "data": {
      "application/vnd.jupyter.widget-view+json": {
       "model_id": "a06b93b9743949e09b4d08d28366d6d1",
       "version_major": 2,
       "version_minor": 0
      },
      "text/plain": [
       "0it [00:00, ?it/s]"
      ]
     },
     "metadata": {},
     "output_type": "display_data"
    },
    {
     "data": {
      "application/vnd.jupyter.widget-view+json": {
       "model_id": "724be506280a426aae37848d058d001a",
       "version_major": 2,
       "version_minor": 0
      },
      "text/plain": [
       "  0%|          | 0/1 [00:00<?, ?it/s]"
      ]
     },
     "metadata": {},
     "output_type": "display_data"
    },
    {
     "data": {
      "application/vnd.jupyter.widget-view+json": {
       "model_id": "8efbff5f3d8d4ede9d6e6c9d9e074e9e",
       "version_major": 2,
       "version_minor": 0
      },
      "text/plain": [
       "  0%|          | 0/1 [00:00<?, ?it/s]"
      ]
     },
     "metadata": {},
     "output_type": "display_data"
    },
    {
     "data": {
      "application/vnd.jupyter.widget-view+json": {
       "model_id": "5fd2c17cc6d245b09e5c4cfb45d04853",
       "version_major": 2,
       "version_minor": 0
      },
      "text/plain": [
       "  0%|          | 0/1 [00:00<?, ?it/s]"
      ]
     },
     "metadata": {},
     "output_type": "display_data"
    },
    {
     "data": {
      "application/vnd.jupyter.widget-view+json": {
       "model_id": "c8a01308426541279f8b08c249d40956",
       "version_major": 2,
       "version_minor": 0
      },
      "text/plain": [
       "  0%|          | 0/1 [00:00<?, ?it/s]"
      ]
     },
     "metadata": {},
     "output_type": "display_data"
    },
    {
     "data": {
      "application/vnd.jupyter.widget-view+json": {
       "model_id": "9303f0e5cb2649019dd7f0da964e7736",
       "version_major": 2,
       "version_minor": 0
      },
      "text/plain": [
       "0it [00:00, ?it/s]"
      ]
     },
     "metadata": {},
     "output_type": "display_data"
    },
    {
     "data": {
      "application/vnd.jupyter.widget-view+json": {
       "model_id": "617591fbfb624778bd70ca539f961e41",
       "version_major": 2,
       "version_minor": 0
      },
      "text/plain": [
       "  0%|          | 0/1 [00:00<?, ?it/s]"
      ]
     },
     "metadata": {},
     "output_type": "display_data"
    },
    {
     "data": {
      "application/vnd.jupyter.widget-view+json": {
       "model_id": "b53e2a0dc4f448f29393f0911f677ca6",
       "version_major": 2,
       "version_minor": 0
      },
      "text/plain": [
       "  0%|          | 0/1 [00:00<?, ?it/s]"
      ]
     },
     "metadata": {},
     "output_type": "display_data"
    },
    {
     "data": {
      "application/vnd.jupyter.widget-view+json": {
       "model_id": "1674866146a2451382e51f5336c210c9",
       "version_major": 2,
       "version_minor": 0
      },
      "text/plain": [
       "  0%|          | 0/1 [00:00<?, ?it/s]"
      ]
     },
     "metadata": {},
     "output_type": "display_data"
    },
    {
     "data": {
      "application/vnd.jupyter.widget-view+json": {
       "model_id": "a87f34e24dc149529d76e2bc2e79b263",
       "version_major": 2,
       "version_minor": 0
      },
      "text/plain": [
       "  0%|          | 0/1 [00:00<?, ?it/s]"
      ]
     },
     "metadata": {},
     "output_type": "display_data"
    },
    {
     "data": {
      "application/vnd.jupyter.widget-view+json": {
       "model_id": "82eba71eb3e84e9aa514072651d81e4b",
       "version_major": 2,
       "version_minor": 0
      },
      "text/plain": [
       "0it [00:00, ?it/s]"
      ]
     },
     "metadata": {},
     "output_type": "display_data"
    },
    {
     "data": {
      "application/vnd.jupyter.widget-view+json": {
       "model_id": "9bb08bde9ec5455cb207fae80fb7b1ce",
       "version_major": 2,
       "version_minor": 0
      },
      "text/plain": [
       "  0%|          | 0/1 [00:00<?, ?it/s]"
      ]
     },
     "metadata": {},
     "output_type": "display_data"
    },
    {
     "data": {
      "application/vnd.jupyter.widget-view+json": {
       "model_id": "0c1123d8b3d543bdb28d507491965031",
       "version_major": 2,
       "version_minor": 0
      },
      "text/plain": [
       "  0%|          | 0/1 [00:00<?, ?it/s]"
      ]
     },
     "metadata": {},
     "output_type": "display_data"
    },
    {
     "data": {
      "application/vnd.jupyter.widget-view+json": {
       "model_id": "527f174190834277922e014dbdb0d2db",
       "version_major": 2,
       "version_minor": 0
      },
      "text/plain": [
       "  0%|          | 0/1 [00:00<?, ?it/s]"
      ]
     },
     "metadata": {},
     "output_type": "display_data"
    },
    {
     "data": {
      "application/vnd.jupyter.widget-view+json": {
       "model_id": "fea10abef52941f387979aaf793ee74c",
       "version_major": 2,
       "version_minor": 0
      },
      "text/plain": [
       "  0%|          | 0/1 [00:00<?, ?it/s]"
      ]
     },
     "metadata": {},
     "output_type": "display_data"
    },
    {
     "data": {
      "application/vnd.jupyter.widget-view+json": {
       "model_id": "5d7802688c974f5b9b06580f68350a9a",
       "version_major": 2,
       "version_minor": 0
      },
      "text/plain": [
       "0it [00:00, ?it/s]"
      ]
     },
     "metadata": {},
     "output_type": "display_data"
    },
    {
     "data": {
      "application/vnd.jupyter.widget-view+json": {
       "model_id": "61a96f7115c848458e45d562908c5eb7",
       "version_major": 2,
       "version_minor": 0
      },
      "text/plain": [
       "  0%|          | 0/1 [00:00<?, ?it/s]"
      ]
     },
     "metadata": {},
     "output_type": "display_data"
    },
    {
     "data": {
      "application/vnd.jupyter.widget-view+json": {
       "model_id": "97b09262ea1c47d3839598521a7428fa",
       "version_major": 2,
       "version_minor": 0
      },
      "text/plain": [
       "  0%|          | 0/1 [00:00<?, ?it/s]"
      ]
     },
     "metadata": {},
     "output_type": "display_data"
    },
    {
     "data": {
      "application/vnd.jupyter.widget-view+json": {
       "model_id": "a353895eff984b388d67e0ff9863fa9f",
       "version_major": 2,
       "version_minor": 0
      },
      "text/plain": [
       "  0%|          | 0/1 [00:00<?, ?it/s]"
      ]
     },
     "metadata": {},
     "output_type": "display_data"
    },
    {
     "data": {
      "application/vnd.jupyter.widget-view+json": {
       "model_id": "a75fb73f47004fd3a5b4e3bc66d70adb",
       "version_major": 2,
       "version_minor": 0
      },
      "text/plain": [
       "  0%|          | 0/1 [00:00<?, ?it/s]"
      ]
     },
     "metadata": {},
     "output_type": "display_data"
    },
    {
     "data": {
      "application/vnd.jupyter.widget-view+json": {
       "model_id": "ca04a50364ad48ea9c9d3b4b2d4ccdb9",
       "version_major": 2,
       "version_minor": 0
      },
      "text/plain": [
       "0it [00:00, ?it/s]"
      ]
     },
     "metadata": {},
     "output_type": "display_data"
    },
    {
     "data": {
      "application/vnd.jupyter.widget-view+json": {
       "model_id": "2ecb804735104ef4b9ee6c3f6e85e1eb",
       "version_major": 2,
       "version_minor": 0
      },
      "text/plain": [
       "  0%|          | 0/1 [00:00<?, ?it/s]"
      ]
     },
     "metadata": {},
     "output_type": "display_data"
    },
    {
     "data": {
      "application/vnd.jupyter.widget-view+json": {
       "model_id": "b526bbe08e5e43b6a6ea73fd09e1e2a5",
       "version_major": 2,
       "version_minor": 0
      },
      "text/plain": [
       "  0%|          | 0/1 [00:00<?, ?it/s]"
      ]
     },
     "metadata": {},
     "output_type": "display_data"
    },
    {
     "data": {
      "application/vnd.jupyter.widget-view+json": {
       "model_id": "f0630a83c85547e78b1617e683b5eaad",
       "version_major": 2,
       "version_minor": 0
      },
      "text/plain": [
       "  0%|          | 0/1 [00:00<?, ?it/s]"
      ]
     },
     "metadata": {},
     "output_type": "display_data"
    },
    {
     "data": {
      "application/vnd.jupyter.widget-view+json": {
       "model_id": "42230832c18e472b9e17762686e00bcd",
       "version_major": 2,
       "version_minor": 0
      },
      "text/plain": [
       "  0%|          | 0/1 [00:00<?, ?it/s]"
      ]
     },
     "metadata": {},
     "output_type": "display_data"
    },
    {
     "data": {
      "application/vnd.jupyter.widget-view+json": {
       "model_id": "bf1668408a094c85ab5dbe3a434915ae",
       "version_major": 2,
       "version_minor": 0
      },
      "text/plain": [
       "0it [00:00, ?it/s]"
      ]
     },
     "metadata": {},
     "output_type": "display_data"
    },
    {
     "data": {
      "application/vnd.jupyter.widget-view+json": {
       "model_id": "2bf30cb3b36b449e874cf0d2a92cf98a",
       "version_major": 2,
       "version_minor": 0
      },
      "text/plain": [
       "  0%|          | 0/1 [00:00<?, ?it/s]"
      ]
     },
     "metadata": {},
     "output_type": "display_data"
    },
    {
     "data": {
      "application/vnd.jupyter.widget-view+json": {
       "model_id": "87f930708a9d4598a879e09e6816d3cc",
       "version_major": 2,
       "version_minor": 0
      },
      "text/plain": [
       "  0%|          | 0/1 [00:00<?, ?it/s]"
      ]
     },
     "metadata": {},
     "output_type": "display_data"
    },
    {
     "data": {
      "application/vnd.jupyter.widget-view+json": {
       "model_id": "342ebf6828494d8ab41ba135083e12c0",
       "version_major": 2,
       "version_minor": 0
      },
      "text/plain": [
       "  0%|          | 0/1 [00:00<?, ?it/s]"
      ]
     },
     "metadata": {},
     "output_type": "display_data"
    },
    {
     "data": {
      "application/vnd.jupyter.widget-view+json": {
       "model_id": "b31d2ab20bde4f6eb597631c9549112b",
       "version_major": 2,
       "version_minor": 0
      },
      "text/plain": [
       "  0%|          | 0/1 [00:00<?, ?it/s]"
      ]
     },
     "metadata": {},
     "output_type": "display_data"
    },
    {
     "data": {
      "application/vnd.jupyter.widget-view+json": {
       "model_id": "2739987b659446ac8e9d80dfac2b29f1",
       "version_major": 2,
       "version_minor": 0
      },
      "text/plain": [
       "0it [00:00, ?it/s]"
      ]
     },
     "metadata": {},
     "output_type": "display_data"
    },
    {
     "data": {
      "application/vnd.jupyter.widget-view+json": {
       "model_id": "703ae6c8d3cb4f38b8832502ab61f547",
       "version_major": 2,
       "version_minor": 0
      },
      "text/plain": [
       "  0%|          | 0/1 [00:00<?, ?it/s]"
      ]
     },
     "metadata": {},
     "output_type": "display_data"
    },
    {
     "data": {
      "application/vnd.jupyter.widget-view+json": {
       "model_id": "a1c1c18a6d4a43d9b7c8efb54fd3951f",
       "version_major": 2,
       "version_minor": 0
      },
      "text/plain": [
       "  0%|          | 0/1 [00:00<?, ?it/s]"
      ]
     },
     "metadata": {},
     "output_type": "display_data"
    },
    {
     "data": {
      "application/vnd.jupyter.widget-view+json": {
       "model_id": "d744106bf3f04721aef850271772b897",
       "version_major": 2,
       "version_minor": 0
      },
      "text/plain": [
       "  0%|          | 0/1 [00:00<?, ?it/s]"
      ]
     },
     "metadata": {},
     "output_type": "display_data"
    },
    {
     "data": {
      "application/vnd.jupyter.widget-view+json": {
       "model_id": "020c0e9dc5c74d39b58369ec5848f3f3",
       "version_major": 2,
       "version_minor": 0
      },
      "text/plain": [
       "  0%|          | 0/1 [00:00<?, ?it/s]"
      ]
     },
     "metadata": {},
     "output_type": "display_data"
    },
    {
     "data": {
      "application/vnd.jupyter.widget-view+json": {
       "model_id": "5523ad031d614662ac3153168b1c565c",
       "version_major": 2,
       "version_minor": 0
      },
      "text/plain": [
       "0it [00:00, ?it/s]"
      ]
     },
     "metadata": {},
     "output_type": "display_data"
    },
    {
     "data": {
      "application/vnd.jupyter.widget-view+json": {
       "model_id": "437060a46487445599e701198a4b3c4b",
       "version_major": 2,
       "version_minor": 0
      },
      "text/plain": [
       "  0%|          | 0/1 [00:00<?, ?it/s]"
      ]
     },
     "metadata": {},
     "output_type": "display_data"
    },
    {
     "data": {
      "application/vnd.jupyter.widget-view+json": {
       "model_id": "947712048f574a7997d75dcc07c05be2",
       "version_major": 2,
       "version_minor": 0
      },
      "text/plain": [
       "  0%|          | 0/1 [00:00<?, ?it/s]"
      ]
     },
     "metadata": {},
     "output_type": "display_data"
    },
    {
     "data": {
      "application/vnd.jupyter.widget-view+json": {
       "model_id": "10d0409620174ae48a38a5fb2ffca56e",
       "version_major": 2,
       "version_minor": 0
      },
      "text/plain": [
       "  0%|          | 0/1 [00:00<?, ?it/s]"
      ]
     },
     "metadata": {},
     "output_type": "display_data"
    },
    {
     "data": {
      "application/vnd.jupyter.widget-view+json": {
       "model_id": "93f9f517cbdd48baa66d37ad801b2efc",
       "version_major": 2,
       "version_minor": 0
      },
      "text/plain": [
       "  0%|          | 0/1 [00:00<?, ?it/s]"
      ]
     },
     "metadata": {},
     "output_type": "display_data"
    },
    {
     "data": {
      "application/vnd.jupyter.widget-view+json": {
       "model_id": "64b85346803c471b85cb6072b55c38b7",
       "version_major": 2,
       "version_minor": 0
      },
      "text/plain": [
       "0it [00:00, ?it/s]"
      ]
     },
     "metadata": {},
     "output_type": "display_data"
    },
    {
     "data": {
      "application/vnd.jupyter.widget-view+json": {
       "model_id": "58631771236d4659b5c98bd6c56bc833",
       "version_major": 2,
       "version_minor": 0
      },
      "text/plain": [
       "  0%|          | 0/1 [00:00<?, ?it/s]"
      ]
     },
     "metadata": {},
     "output_type": "display_data"
    },
    {
     "data": {
      "application/vnd.jupyter.widget-view+json": {
       "model_id": "a482684a64ae4724a1eafadfe97f1549",
       "version_major": 2,
       "version_minor": 0
      },
      "text/plain": [
       "  0%|          | 0/1 [00:00<?, ?it/s]"
      ]
     },
     "metadata": {},
     "output_type": "display_data"
    },
    {
     "data": {
      "application/vnd.jupyter.widget-view+json": {
       "model_id": "fbb5cac2cbe14e9eab5a1c0ca4118f89",
       "version_major": 2,
       "version_minor": 0
      },
      "text/plain": [
       "  0%|          | 0/1 [00:00<?, ?it/s]"
      ]
     },
     "metadata": {},
     "output_type": "display_data"
    },
    {
     "data": {
      "application/vnd.jupyter.widget-view+json": {
       "model_id": "101813049c724af3af9f29e1d63ba6f7",
       "version_major": 2,
       "version_minor": 0
      },
      "text/plain": [
       "  0%|          | 0/1 [00:00<?, ?it/s]"
      ]
     },
     "metadata": {},
     "output_type": "display_data"
    },
    {
     "data": {
      "application/vnd.jupyter.widget-view+json": {
       "model_id": "f59a506f6d1044ef9e3c20f92bf358c3",
       "version_major": 2,
       "version_minor": 0
      },
      "text/plain": [
       "0it [00:00, ?it/s]"
      ]
     },
     "metadata": {},
     "output_type": "display_data"
    },
    {
     "data": {
      "application/vnd.jupyter.widget-view+json": {
       "model_id": "bdca312152d340bebc7ff48c583fcfbb",
       "version_major": 2,
       "version_minor": 0
      },
      "text/plain": [
       "  0%|          | 0/1 [00:00<?, ?it/s]"
      ]
     },
     "metadata": {},
     "output_type": "display_data"
    },
    {
     "data": {
      "application/vnd.jupyter.widget-view+json": {
       "model_id": "3082d0376f23466eb8e86d619b08b853",
       "version_major": 2,
       "version_minor": 0
      },
      "text/plain": [
       "  0%|          | 0/1 [00:00<?, ?it/s]"
      ]
     },
     "metadata": {},
     "output_type": "display_data"
    },
    {
     "data": {
      "application/vnd.jupyter.widget-view+json": {
       "model_id": "4e9f528352fe41a3ba2f23826f1b3594",
       "version_major": 2,
       "version_minor": 0
      },
      "text/plain": [
       "  0%|          | 0/1 [00:00<?, ?it/s]"
      ]
     },
     "metadata": {},
     "output_type": "display_data"
    },
    {
     "data": {
      "application/vnd.jupyter.widget-view+json": {
       "model_id": "6ba971d258e34f9cbf0b77029359802b",
       "version_major": 2,
       "version_minor": 0
      },
      "text/plain": [
       "  0%|          | 0/1 [00:00<?, ?it/s]"
      ]
     },
     "metadata": {},
     "output_type": "display_data"
    }
   ],
   "source": [
    "score_list = []\n",
    "for i in range(1,19):\n",
    "    new_df_list,name_list = get_new_df(i)\n",
    "    scores = get_scores(new_df_list,name_list)\n",
    "    scores['index'] = i\n",
    "    score_list.append(scores)"
   ]
  },
  {
   "cell_type": "code",
   "execution_count": 9,
   "metadata": {},
   "outputs": [
    {
     "data": {
      "text/plain": [
       "{'test_score': 1.2900014486376508,\n",
       " 'final_dev_score': 1.2397273316949056,\n",
       " 'tradeoff': 0.22,\n",
       " 'index': 18}"
      ]
     },
     "execution_count": 9,
     "metadata": {},
     "output_type": "execute_result"
    }
   ],
   "source": [
    "scores"
   ]
  },
  {
   "cell_type": "code",
   "execution_count": 10,
   "metadata": {},
   "outputs": [],
   "source": [
    "df_score = pd.DataFrame(score_list)"
   ]
  },
  {
   "cell_type": "code",
   "execution_count": 11,
   "metadata": {},
   "outputs": [],
   "source": [
    "df_score['std'] = df_score[['test_score','final_dev_score']].std(axis=1)\n",
    "df_score['avg'] = df_score[['test_score','final_dev_score']].mean(axis=1)\n",
    "df_score['avg-3std'] = df_score['avg']-3*df_score['std']"
   ]
  },
  {
   "cell_type": "code",
   "execution_count": 12,
   "metadata": {},
   "outputs": [
    {
     "data": {
      "text/html": [
       "<div>\n",
       "<style scoped>\n",
       "    .dataframe tbody tr th:only-of-type {\n",
       "        vertical-align: middle;\n",
       "    }\n",
       "\n",
       "    .dataframe tbody tr th {\n",
       "        vertical-align: top;\n",
       "    }\n",
       "\n",
       "    .dataframe thead th {\n",
       "        text-align: right;\n",
       "    }\n",
       "</style>\n",
       "<table border=\"1\" class=\"dataframe\">\n",
       "  <thead>\n",
       "    <tr style=\"text-align: right;\">\n",
       "      <th></th>\n",
       "      <th>test_score</th>\n",
       "      <th>final_dev_score</th>\n",
       "      <th>tradeoff</th>\n",
       "      <th>index</th>\n",
       "      <th>std</th>\n",
       "      <th>avg</th>\n",
       "      <th>avg-3std</th>\n",
       "    </tr>\n",
       "  </thead>\n",
       "  <tbody>\n",
       "    <tr>\n",
       "      <th>1</th>\n",
       "      <td>1.265729</td>\n",
       "      <td>1.259205</td>\n",
       "      <td>0.26</td>\n",
       "      <td>2</td>\n",
       "      <td>0.004613</td>\n",
       "      <td>1.262467</td>\n",
       "      <td>1.248629</td>\n",
       "    </tr>\n",
       "    <tr>\n",
       "      <th>2</th>\n",
       "      <td>1.278559</td>\n",
       "      <td>1.263680</td>\n",
       "      <td>0.23</td>\n",
       "      <td>3</td>\n",
       "      <td>0.010521</td>\n",
       "      <td>1.271120</td>\n",
       "      <td>1.239557</td>\n",
       "    </tr>\n",
       "    <tr>\n",
       "      <th>6</th>\n",
       "      <td>1.291807</td>\n",
       "      <td>1.268147</td>\n",
       "      <td>0.24</td>\n",
       "      <td>7</td>\n",
       "      <td>0.016730</td>\n",
       "      <td>1.279977</td>\n",
       "      <td>1.229786</td>\n",
       "    </tr>\n",
       "    <tr>\n",
       "      <th>0</th>\n",
       "      <td>1.269692</td>\n",
       "      <td>1.244168</td>\n",
       "      <td>0.30</td>\n",
       "      <td>1</td>\n",
       "      <td>0.018048</td>\n",
       "      <td>1.256930</td>\n",
       "      <td>1.202786</td>\n",
       "    </tr>\n",
       "    <tr>\n",
       "      <th>3</th>\n",
       "      <td>1.288924</td>\n",
       "      <td>1.261695</td>\n",
       "      <td>0.25</td>\n",
       "      <td>4</td>\n",
       "      <td>0.019254</td>\n",
       "      <td>1.275309</td>\n",
       "      <td>1.217547</td>\n",
       "    </tr>\n",
       "    <tr>\n",
       "      <th>4</th>\n",
       "      <td>1.285281</td>\n",
       "      <td>1.252504</td>\n",
       "      <td>0.24</td>\n",
       "      <td>5</td>\n",
       "      <td>0.023177</td>\n",
       "      <td>1.268893</td>\n",
       "      <td>1.199362</td>\n",
       "    </tr>\n",
       "    <tr>\n",
       "      <th>7</th>\n",
       "      <td>1.294217</td>\n",
       "      <td>1.260278</td>\n",
       "      <td>0.24</td>\n",
       "      <td>8</td>\n",
       "      <td>0.023999</td>\n",
       "      <td>1.277247</td>\n",
       "      <td>1.205251</td>\n",
       "    </tr>\n",
       "    <tr>\n",
       "      <th>9</th>\n",
       "      <td>1.284704</td>\n",
       "      <td>1.248693</td>\n",
       "      <td>0.23</td>\n",
       "      <td>10</td>\n",
       "      <td>0.025464</td>\n",
       "      <td>1.266698</td>\n",
       "      <td>1.190307</td>\n",
       "    </tr>\n",
       "    <tr>\n",
       "      <th>5</th>\n",
       "      <td>1.282424</td>\n",
       "      <td>1.236027</td>\n",
       "      <td>0.22</td>\n",
       "      <td>6</td>\n",
       "      <td>0.032808</td>\n",
       "      <td>1.259225</td>\n",
       "      <td>1.160802</td>\n",
       "    </tr>\n",
       "    <tr>\n",
       "      <th>16</th>\n",
       "      <td>1.303284</td>\n",
       "      <td>1.254725</td>\n",
       "      <td>0.23</td>\n",
       "      <td>17</td>\n",
       "      <td>0.034336</td>\n",
       "      <td>1.279004</td>\n",
       "      <td>1.175996</td>\n",
       "    </tr>\n",
       "    <tr>\n",
       "      <th>8</th>\n",
       "      <td>1.290736</td>\n",
       "      <td>1.242011</td>\n",
       "      <td>0.23</td>\n",
       "      <td>9</td>\n",
       "      <td>0.034454</td>\n",
       "      <td>1.266373</td>\n",
       "      <td>1.163011</td>\n",
       "    </tr>\n",
       "    <tr>\n",
       "      <th>10</th>\n",
       "      <td>1.290329</td>\n",
       "      <td>1.240617</td>\n",
       "      <td>0.22</td>\n",
       "      <td>11</td>\n",
       "      <td>0.035152</td>\n",
       "      <td>1.265473</td>\n",
       "      <td>1.160017</td>\n",
       "    </tr>\n",
       "    <tr>\n",
       "      <th>17</th>\n",
       "      <td>1.290001</td>\n",
       "      <td>1.239727</td>\n",
       "      <td>0.22</td>\n",
       "      <td>18</td>\n",
       "      <td>0.035549</td>\n",
       "      <td>1.264864</td>\n",
       "      <td>1.158217</td>\n",
       "    </tr>\n",
       "    <tr>\n",
       "      <th>11</th>\n",
       "      <td>1.309564</td>\n",
       "      <td>1.253993</td>\n",
       "      <td>0.24</td>\n",
       "      <td>12</td>\n",
       "      <td>0.039294</td>\n",
       "      <td>1.281778</td>\n",
       "      <td>1.163896</td>\n",
       "    </tr>\n",
       "    <tr>\n",
       "      <th>14</th>\n",
       "      <td>1.300744</td>\n",
       "      <td>1.245159</td>\n",
       "      <td>0.23</td>\n",
       "      <td>15</td>\n",
       "      <td>0.039305</td>\n",
       "      <td>1.272951</td>\n",
       "      <td>1.155037</td>\n",
       "    </tr>\n",
       "    <tr>\n",
       "      <th>13</th>\n",
       "      <td>1.303759</td>\n",
       "      <td>1.247199</td>\n",
       "      <td>0.23</td>\n",
       "      <td>14</td>\n",
       "      <td>0.039994</td>\n",
       "      <td>1.275479</td>\n",
       "      <td>1.155498</td>\n",
       "    </tr>\n",
       "    <tr>\n",
       "      <th>15</th>\n",
       "      <td>1.305503</td>\n",
       "      <td>1.248272</td>\n",
       "      <td>0.23</td>\n",
       "      <td>16</td>\n",
       "      <td>0.040468</td>\n",
       "      <td>1.276887</td>\n",
       "      <td>1.155482</td>\n",
       "    </tr>\n",
       "    <tr>\n",
       "      <th>12</th>\n",
       "      <td>1.289665</td>\n",
       "      <td>1.218664</td>\n",
       "      <td>0.21</td>\n",
       "      <td>13</td>\n",
       "      <td>0.050206</td>\n",
       "      <td>1.254164</td>\n",
       "      <td>1.103547</td>\n",
       "    </tr>\n",
       "  </tbody>\n",
       "</table>\n",
       "</div>"
      ],
      "text/plain": [
       "    test_score  final_dev_score  tradeoff  index       std       avg  avg-3std\n",
       "1     1.265729         1.259205      0.26      2  0.004613  1.262467  1.248629\n",
       "2     1.278559         1.263680      0.23      3  0.010521  1.271120  1.239557\n",
       "6     1.291807         1.268147      0.24      7  0.016730  1.279977  1.229786\n",
       "0     1.269692         1.244168      0.30      1  0.018048  1.256930  1.202786\n",
       "3     1.288924         1.261695      0.25      4  0.019254  1.275309  1.217547\n",
       "4     1.285281         1.252504      0.24      5  0.023177  1.268893  1.199362\n",
       "7     1.294217         1.260278      0.24      8  0.023999  1.277247  1.205251\n",
       "9     1.284704         1.248693      0.23     10  0.025464  1.266698  1.190307\n",
       "5     1.282424         1.236027      0.22      6  0.032808  1.259225  1.160802\n",
       "16    1.303284         1.254725      0.23     17  0.034336  1.279004  1.175996\n",
       "8     1.290736         1.242011      0.23      9  0.034454  1.266373  1.163011\n",
       "10    1.290329         1.240617      0.22     11  0.035152  1.265473  1.160017\n",
       "17    1.290001         1.239727      0.22     18  0.035549  1.264864  1.158217\n",
       "11    1.309564         1.253993      0.24     12  0.039294  1.281778  1.163896\n",
       "14    1.300744         1.245159      0.23     15  0.039305  1.272951  1.155037\n",
       "13    1.303759         1.247199      0.23     14  0.039994  1.275479  1.155498\n",
       "15    1.305503         1.248272      0.23     16  0.040468  1.276887  1.155482\n",
       "12    1.289665         1.218664      0.21     13  0.050206  1.254164  1.103547"
      ]
     },
     "execution_count": 12,
     "metadata": {},
     "output_type": "execute_result"
    }
   ],
   "source": [
    "df_score.sort_values(['std','avg'])"
   ]
  },
  {
   "cell_type": "code",
   "execution_count": null,
   "metadata": {},
   "outputs": [],
   "source": [
    "new_df_list,name_list = get_new_df(2)"
   ]
  },
  {
   "cell_type": "code",
   "execution_count": 13,
   "metadata": {},
   "outputs": [],
   "source": [
    "df_final_test = new_df_list[3]\n",
    "df_final_test['merge_mean'] = df_final_test[name_list].mean(axis=1)"
   ]
  },
  {
   "cell_type": "code",
   "execution_count": 14,
   "metadata": {},
   "outputs": [],
   "source": [
    "tradeoff = 0.26"
   ]
  },
  {
   "cell_type": "code",
   "execution_count": 15,
   "metadata": {},
   "outputs": [],
   "source": [
    "df_final_test['Label'] = (df_final_test['merge_mean']>tradeoff).apply(int)\n",
    "df_final_test['ID'] = df_final_test['Id']"
   ]
  },
  {
   "cell_type": "code",
   "execution_count": 16,
   "metadata": {},
   "outputs": [],
   "source": [
    "keep_cols = ['ID','Dialogue_id','Utterance_id','Label']\n",
    "week_name = \"final2_0923\""
   ]
  },
  {
   "cell_type": "code",
   "execution_count": 17,
   "metadata": {},
   "outputs": [],
   "source": [
    "df_final_test[keep_cols].to_csv(f'data/TAL-JNU_任务1.csv',index=False)"
   ]
  },
  {
   "cell_type": "code",
   "execution_count": 18,
   "metadata": {},
   "outputs": [
    {
     "data": {
      "text/plain": [
       "0.14434740417273167"
      ]
     },
     "execution_count": 18,
     "metadata": {},
     "output_type": "execute_result"
    }
   ],
   "source": [
    "df_final_test['Label'].mean()"
   ]
  },
  {
   "cell_type": "code",
   "execution_count": 19,
   "metadata": {},
   "outputs": [
    {
     "data": {
      "text/plain": [
       "(4122, 34)"
      ]
     },
     "execution_count": 19,
     "metadata": {},
     "output_type": "execute_result"
    }
   ],
   "source": [
    "df_final_test.shape"
   ]
  },
  {
   "cell_type": "code",
   "execution_count": 20,
   "metadata": {},
   "outputs": [
    {
     "name": "stdout",
     "output_type": "stream",
     "text": [
      "0.16424751718869365\n",
      "0.1614487415592388\n",
      "0.12913553895410887\n",
      "0.14434740417273167\n"
     ]
    }
   ],
   "source": [
    "for df in new_df_list:\n",
    "    print(df['Label'].mean())"
   ]
  },
  {
   "cell_type": "code",
   "execution_count": null,
   "metadata": {},
   "outputs": [],
   "source": []
  }
 ],
 "metadata": {
  "kernelspec": {
   "display_name": "Python 3",
   "language": "python",
   "name": "python3"
  },
  "language_info": {
   "codemirror_mode": {
    "name": "ipython",
    "version": 3
   },
   "file_extension": ".py",
   "mimetype": "text/x-python",
   "name": "python",
   "nbconvert_exporter": "python",
   "pygments_lexer": "ipython3",
   "version": "3.7.5"
  },
  "toc": {
   "base_numbering": 1,
   "nav_menu": {},
   "number_sections": true,
   "sideBar": true,
   "skip_h1_title": false,
   "title_cell": "Table of Contents",
   "title_sidebar": "Contents",
   "toc_cell": false,
   "toc_position": {},
   "toc_section_display": true,
   "toc_window_display": true
  }
 },
 "nbformat": 4,
 "nbformat_minor": 4
}
