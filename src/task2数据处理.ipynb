{
 "cells": [
  {
   "cell_type": "code",
   "execution_count": 1,
   "id": "30dda528",
   "metadata": {},
   "outputs": [],
   "source": [
    "import os,sys"
   ]
  },
  {
   "cell_type": "code",
   "execution_count": 2,
   "id": "e284c0c3",
   "metadata": {},
   "outputs": [],
   "source": [
    "import json\n",
    "import pandas as pd\n",
    "from tqdm import tqdm_notebook\n",
    "import random"
   ]
  },
  {
   "cell_type": "code",
   "execution_count": 3,
   "id": "33a2cabd",
   "metadata": {},
   "outputs": [],
   "source": [
    "import ass\n",
    "\n",
    "def clean_text(text):\n",
    "    text = f\"\"\"{text.strip(r'\"').strip()}\"\"\"\n",
    "    text = text.replace(\" '\",' ')\n",
    "    remove_words = ['<i>', '</i>', '</b>', '<b>', '\"']\n",
    "    replace_words = {\"...\": \"\", r\"\\'\": \"'\"}\n",
    "    for word in remove_words:\n",
    "        text = text.replace(word, \"\")\n",
    "    for k, v in replace_words.items():\n",
    "        text = text.replace(k, v)\n",
    "    return text\n",
    "\n",
    "def load_subtitle(fname, subtitle_path_dict):\n",
    "    path = subtitle_path_dict[fname]\n",
    "    with open(path, encoding='utf_8_sig') as f:\n",
    "        doc = ass.parse(f)\n",
    "    eng_text_list = []\n",
    "    for event in doc.events:\n",
    "        text = event.text\n",
    "        text_split = text.split(\"{\\\\c&HFFFFFF&}{\\\\3c&H2F2F2F&}{\\\\4c&H000000&}\")\n",
    "        if len(text_split) < 2:\n",
    "            continue\n",
    "        text = clean_text(text_split[1])\n",
    "        if \"Good Luck Charlie\" in text:\n",
    "            continue\n",
    "        if text.count('.') > 1:\n",
    "            eng_text_list.extend(\n",
    "                [x.strip()+'.' for x in text.split(\".\") if len(x) != 0])\n",
    "        else:\n",
    "            eng_text_list.append(text)\n",
    "    all_text = \" \".join(eng_text_list)\n",
    "    return eng_text_list, all_text"
   ]
  },
  {
   "cell_type": "code",
   "execution_count": 4,
   "id": "d3d97221",
   "metadata": {},
   "outputs": [
    {
     "data": {
      "text/plain": [
       "{'S01E24': 'data/公开数据/Good Luck Charlie (2010)/S01/Good Luck Charlie (2010) - S01E24 - Snow Show (1080p WEB-DL x265 Panda).ass',\n",
       " 'S01E21': \"data/公开数据/Good Luck Charlie (2010)/S01/Good Luck Charlie (2010) - S01E21 - Teddy's Broken Heart Club Band (1080p WEB-DL x265 Panda).ass\",\n",
       " 'S01E16': \"data/公开数据/Good Luck Charlie (2010)/S01/Good Luck Charlie (2010) - S01E16 - Duncan's Got Talent (1080p WEB-DL x265 Panda).ass\",\n",
       " 'S01E03': 'data/公开数据/Good Luck Charlie (2010)/S01/Good Luck Charlie (2010) - S01E03 - The Curious Case of Mr.Dabney (1080p WEB-DL x265 Panda).ass',\n",
       " 'S01E22': 'data/公开数据/Good Luck Charlie (2010)/S01/Good Luck Charlie (2010) - S01E22 - Teddy Rebounds (1080p WEB-DL x265 Panda).ass',\n",
       " 'S01E01': 'data/公开数据/Good Luck Charlie (2010)/S01/Good Luck Charlie (2010) - S01E01 - Study Date (1080p WEB-DL x265 Panda).ass',\n",
       " 'S01E18': 'data/公开数据/Good Luck Charlie (2010)/S01/Good Luck Charlie (2010) - S01E18 - Charlie in Charge (1080p WEB-DL x265 Panda).ass',\n",
       " 'S01E17': 'data/公开数据/Good Luck Charlie (2010)/S01/Good Luck Charlie (2010) - S01E17 - Kwikki Chick (1080p WEB-DL x265 Panda).ass',\n",
       " 'S01E23': 'data/公开数据/Good Luck Charlie (2010)/S01/Good Luck Charlie (2010) - S01E23 - Pushing Buttons (1080p WEB-DL x265 Panda).ass',\n",
       " 'S01E19': 'data/公开数据/Good Luck Charlie (2010)/S01/Good Luck Charlie (2010) - S01E19 - Sleepless in Denver (1080p WEB-DL x265 Panda).ass',\n",
       " 'S01E25': 'data/公开数据/Good Luck Charlie (2010)/S01/Good Luck Charlie (2010) - S01E25 - Snow Show (2) (1080p WEB-DL x265 Panda).ass',\n",
       " 'S01E15': 'data/公开数据/Good Luck Charlie (2010)/S01/Good Luck Charlie (2010) - S01E15 - Charlie Goes Viral (1080p WEB-DL x265 Panda).ass',\n",
       " 'S01E20': 'data/公开数据/Good Luck Charlie (2010)/S01/Good Luck Charlie (2010) - S01E20 - Girl Bites Dog (1080p WEB-DL x265 Panda).ass',\n",
       " 'S01E07': 'data/公开数据/Good Luck Charlie (2010)/S01/Good Luck Charlie (2010) - S01E07 - Butt Dialing Duncans (1080p WEB-DL x265 Panda).ass',\n",
       " 'S01E13': \"data/公开数据/Good Luck Charlie (2010)/S01/Good Luck Charlie (2010) - S01E13 - Teddy's Little Helper (1080p WEB-DL x265 Panda).ass\",\n",
       " 'S01E08': 'data/公开数据/Good Luck Charlie (2010)/S01/Good Luck Charlie (2010) - S01E08 - Charlie is 1 (1080p WEB-DL x265 Panda).ass',\n",
       " 'S01E04': 'data/公开数据/Good Luck Charlie (2010)/S01/Good Luck Charlie (2010) - S01E04 - Double Whammy (1080p WEB-DL x265 Panda).ass',\n",
       " 'S01E11': 'data/公开数据/Good Luck Charlie (2010)/S01/Good Luck Charlie (2010) - S01E11 - Boys Meet Girls (1080p WEB-DL x265 Panda).ass',\n",
       " 'S01E26': 'data/公开数据/Good Luck Charlie (2010)/S01/Good Luck Charlie (2010) - S01E26 - Driving Mrs. Dabney (1080p WEB-DL x265 Panda).ass',\n",
       " 'S01E02': 'data/公开数据/Good Luck Charlie (2010)/S01/Good Luck Charlie (2010) - S01E02 - Baby Come Back (1080p WEB-DL x265 Panda).ass',\n",
       " 'S01E12': 'data/公开数据/Good Luck Charlie (2010)/S01/Good Luck Charlie (2010) - S01E12 - Kit and Kaboodle (1080p WEB-DL x265 Panda).ass',\n",
       " 'S01E09': 'data/公开数据/Good Luck Charlie (2010)/S01/Good Luck Charlie (2010) - S01E09 - Up a Tree (1080p WEB-DL x265 Panda).ass',\n",
       " 'S01E05': 'data/公开数据/Good Luck Charlie (2010)/S01/Good Luck Charlie (2010) - S01E05 - Dance Off (1080p WEB-DL x265 Panda).ass',\n",
       " 'S01E10': 'data/公开数据/Good Luck Charlie (2010)/S01/Good Luck Charlie (2010) - S01E10 - Take Mel Out to the Ball Game (1080p WEB-DL x265 Panda).ass',\n",
       " 'S01E14': 'data/公开数据/Good Luck Charlie (2010)/S01/Good Luck Charlie (2010) - S01E14 - Blankie Go Bye-Bye (1080p WEB-DL x265 Panda).ass',\n",
       " 'S01E06': 'data/公开数据/Good Luck Charlie (2010)/S01/Good Luck Charlie (2010) - S01E06 - Charlie Did It! (1080p WEB-DL x265 Panda).ass',\n",
       " 'S04E04': 'data/公开数据/Good Luck Charlie (2010)/S04/Good Luck Charlie (2010) - S04E04 - Go Teddy! (1080p WEB-DL x265 Panda).ass',\n",
       " 'S04E19': 'data/公开数据/Good Luck Charlie (2010)/S04/Good Luck Charlie (2010) - S04E19 - Down a Tree (1080p WEB-DL x265 Panda).ass',\n",
       " 'S04E20.ass': 'data/公开数据/Good Luck Charlie (2010)/S04/Good Luck Charlie (2010) - S04E20.ass',\n",
       " 'S04E02': 'data/公开数据/Good Luck Charlie (2010)/S04/Good Luck Charlie (2010) - S04E02 - Doppel Date (1080p WEB-DL x265 Panda).ass',\n",
       " 'S04E14': 'data/公开数据/Good Luck Charlie (2010)/S04/Good Luck Charlie (2010) - S04E14 - Fright Knight (1080p WEB-DL x265 Panda).ass',\n",
       " 'S04E12': 'data/公开数据/Good Luck Charlie (2010)/S04/Good Luck Charlie (2010) - S04E12 - Bug Prom (1080p WEB-DL x265 Panda).ass',\n",
       " 'S04E13': 'data/公开数据/Good Luck Charlie (2010)/S04/Good Luck Charlie (2010) - S04E13 - Weekend in Vegas (1080p WEB-DL x265 Panda).ass',\n",
       " 'S04E01': 'data/公开数据/Good Luck Charlie (2010)/S04/Good Luck Charlie (2010) - S04E01 - Duncan Dream House (1080p WEB-DL x265 Panda).ass',\n",
       " 'S04E07': 'data/公开数据/Good Luck Charlie (2010)/S04/Good Luck Charlie (2010) - S04E07 - Rat-A-Teddy (1080p WEB-DL x265 Panda).ass',\n",
       " 'S04E17': 'data/公开数据/Good Luck Charlie (2010)/S04/Good Luck Charlie (2010) - S04E17 - Good Luck Jessie NYC Christmas (1080p WEB-DL x265 Panda).ass',\n",
       " 'S04E11': \"data/公开数据/Good Luck Charlie (2010)/S04/Good Luck Charlie (2010) - S04E11 - Teddy's Choice (1080p WEB-DL x265 Panda).ass\",\n",
       " 'S04E08': 'data/公开数据/Good Luck Charlie (2010)/S04/Good Luck Charlie (2010) - S04E08 - Charlie 4, Toby 1 (1080p WEB-DL x265 Panda).ass',\n",
       " 'S04E09': 'data/公开数据/Good Luck Charlie (2010)/S04/Good Luck Charlie (2010) - S04E09 - Futuredrama (1080p WEB-DL x265 Panda).ass',\n",
       " 'S04E15': 'data/公开数据/Good Luck Charlie (2010)/S04/Good Luck Charlie (2010) - S04E15 - Sister, Sister (1080p WEB-DL x265 Panda).ass',\n",
       " 'S04E03': 'data/公开数据/Good Luck Charlie (2010)/S04/Good Luck Charlie (2010) - S04E03 - Demolition Dabney (1080p WEB-DL x265 Panda).ass',\n",
       " 'S04E10': \"data/公开数据/Good Luck Charlie (2010)/S04/Good Luck Charlie (2010) - S04E10 - Teddy's New Beau (1080p WEB-DL x265 Panda).ass\",\n",
       " 'S04E16': \"data/公开数据/Good Luck Charlie (2010)/S04/Good Luck Charlie (2010) - S04E16 - Bob's Beau-Be-Gone (1080p WEB-DL x265 Panda).ass\",\n",
       " 'S04E18': 'data/公开数据/Good Luck Charlie (2010)/S04/Good Luck Charlie (2010) - S04E18 - Accepted (1080p WEB-DL x265 Panda).ass',\n",
       " 'S04E05': 'data/公开数据/Good Luck Charlie (2010)/S04/Good Luck Charlie (2010) - S04E05 - Rock Enroll (1080p WEB-DL x265 Panda).ass',\n",
       " 'S04E06': 'data/公开数据/Good Luck Charlie (2010)/S04/Good Luck Charlie (2010) - S04E06 - The Unusual Suspects (1080p WEB-DL x265 Panda).ass',\n",
       " 'S04E21.ass': 'data/公开数据/Good Luck Charlie (2010)/S04/Good Luck Charlie (2010) - S04E21.ass',\n",
       " 'S03E22': 'data/公开数据/Good Luck Charlie (2010)/S03/Good Luck Charlie (2010) - S03E22- All Fall Down (1080p WEB-DL x265 Panda).ass',\n",
       " 'S03E20': 'data/公开数据/Good Luck Charlie (2010)/S03/Good Luck Charlie (2010) - S03E20 - Study Buddy (1080p WEB-DL x265 Panda).ass',\n",
       " 'S03E15': 'data/公开数据/Good Luck Charlie (2010)/S03/Good Luck Charlie (2010) - S03E15 - Team Mom (1080p WEB-DL x265 Panda).ass',\n",
       " 'S03E16': 'data/公开数据/Good Luck Charlie (2010)/S03/Good Luck Charlie (2010) - S03E16 - Le Halloween (1080p WEB-DL x265 Panda).ass',\n",
       " 'S03E19': 'data/公开数据/Good Luck Charlie (2010)/S03/Good Luck Charlie (2010) - S03E19 - Charlie Whisperer (1080p WEB-DL x265 Panda).ass',\n",
       " 'S03E18': 'data/公开数据/Good Luck Charlie (2010)/S03/Good Luck Charlie (2010) - S03E18 - Nurse Blankenhooper (1080p WEB-DL x265 Panda).ass',\n",
       " 'S03E14': 'data/公开数据/Good Luck Charlie (2010)/S03/Good Luck Charlie (2010) - S03E14 - Teddy and the Bambino (1080p WEB-DL x265 Panda).ass',\n",
       " 'S03E06': 'data/公开数据/Good Luck Charlie (2010)/S03/Good Luck Charlie (2010) - S03E06 - Name That Baby (1080p WEB-DL x265 Panda).ass',\n",
       " 'S03E07': 'data/公开数据/Good Luck Charlie (2010)/S03/Good Luck Charlie (2010) - S03E07 - Special Delivery (1080p WEB-DL x265 Panda).ass',\n",
       " 'S03E21': 'data/公开数据/Good Luck Charlie (2010)/S03/Good Luck Charlie (2010) - S03E21 - A Duncan Christmas (1080p WEB-DL x265 Panda).ass',\n",
       " 'S03E12': 'data/公开数据/Good Luck Charlie (2010)/S03/Good Luck Charlie (2010) - S03E12 - Baby Steps (1080p WEB-DL x265 Panda).ass',\n",
       " 'S03E23.ass': 'data/公开数据/Good Luck Charlie (2010)/S03/Good Luck Charlie (2010) - S03E23.ass',\n",
       " 'S03E01': 'data/公开数据/Good Luck Charlie (2010)/S03/Good Luck Charlie (2010) - S03E01 - Make Room for Baby (1080p WEB-DL x265 Panda).ass',\n",
       " 'S03E02': 'data/公开数据/Good Luck Charlie (2010)/S03/Good Luck Charlie (2010) - S03E02 - Bad Luck Teddy (1080p WEB-DL x265 Panda).ass',\n",
       " 'S03E04': 'data/公开数据/Good Luck Charlie (2010)/S03/Good Luck Charlie (2010) - S03E04 - Dress Mess (1080p WEB-DL x265 Panda).ass',\n",
       " 'S03E08.ass': 'data/公开数据/Good Luck Charlie (2010)/S03/Good Luck Charlie (2010) - S03E08.ass',\n",
       " 'S03E09': 'data/公开数据/Good Luck Charlie (2010)/S03/Good Luck Charlie (2010) - S03E09 - Welcome Home (1080p WEB-DL x265 Panda).ass',\n",
       " 'S03E13': 'data/公开数据/Good Luck Charlie (2010)/S03/Good Luck Charlie (2010) - S03E13 - T. Wrecks (1080p WEB-DL x265 Panda).ass',\n",
       " 'S03E03': 'data/公开数据/Good Luck Charlie (2010)/S03/Good Luck Charlie (2010) - S03E03 - Amy Needs a Shower (1080p WEB-DL x265 Panda).ass',\n",
       " 'S03E11': \"data/公开数据/Good Luck Charlie (2010)/S03/Good Luck Charlie (2010) - S03E11 - Wentz's Weather Girls (1080p WEB-DL x265 Panda).ass\",\n",
       " 'S03E05': 'data/公开数据/Good Luck Charlie (2010)/S03/Good Luck Charlie (2010) - S03E05 - Catch Me If You Can (1080p WEB-DL x265 Panda).ass',\n",
       " 'S03E10': \"data/公开数据/Good Luck Charlie (2010)/S03/Good Luck Charlie (2010) - S03E10 - Baby's First Vacation (1080p WEB-DL x265 Panda).ass\",\n",
       " 'S03E17': 'data/公开数据/Good Luck Charlie (2010)/S03/Good Luck Charlie (2010) - S03E17 - Guys & Dolls (1080p WEB-DL x265 Panda).ass',\n",
       " 'S02E06': 'data/公开数据/Good Luck Charlie (2010)/S02/Good Luck Charlie (2010) - S02E06 - A L.A.R.P. in the Park (1080p WEB-DL x265 Panda).ass',\n",
       " 'S02E13': 'data/公开数据/Good Luck Charlie (2010)/S02/Good Luck Charlie (2010) - S02E13 - Charlie Shakes it Up (1080p WEB-DL x265 Panda).ass',\n",
       " 'S02E04': 'data/公开数据/Good Luck Charlie (2010)/S02/Good Luck Charlie (2010) - S02E04 - Appy Days (1080p WEB-DL x265 Panda).ass',\n",
       " 'S02E25': 'data/公开数据/Good Luck Charlie (2010)/S02/Good Luck Charlie (2010) - S02E25 - Scary Had a Little Lamb (1080p WEB-DL x265 Panda).ass',\n",
       " 'S02E21': 'data/公开数据/Good Luck Charlie (2010)/S02/Good Luck Charlie (2010) - S02E21 - Termite Queen (1080p WEB-DL x265 Panda).ass',\n",
       " 'S02E28': 'data/公开数据/Good Luck Charlie (2010)/S02/Good Luck Charlie (2010) - S02E28 - Story Time (1080p WEB-DL x265 Panda).ass',\n",
       " 'S02E30': 'data/公开数据/Good Luck Charlie (2010)/S02/Good Luck Charlie (2010) - S02E30 - Teddy on Ice (1080p WEB-DL x265 Panda).ass',\n",
       " 'S02E29': \"data/公开数据/Good Luck Charlie (2010)/S02/Good Luck Charlie (2010) - S02E29 - It's a Charlie Duncan Thanksgiving (1080p WEB-DL x265 Panda).ass\",\n",
       " 'S02E05': 'data/公开数据/Good Luck Charlie (2010)/S02/Good Luck Charlie (2010) - S02E05 - Duncan vs. Duncan (1080p WEB-DL x265 Panda).ass',\n",
       " 'S02E22': 'data/公开数据/Good Luck Charlie (2010)/S02/Good Luck Charlie (2010) - S02E22 - The Bob Duncan Experience (1080p WEB-DL x265 Panda).ass',\n",
       " 'S02E11': \"data/公开数据/Good Luck Charlie (2010)/S02/Good Luck Charlie (2010) - S02E11 - Gabe's 12-1 2 Birthday (1080p WEB-DL x265 Panda).ass\",\n",
       " 'S02E24': 'data/公开数据/Good Luck Charlie (2010)/S02/Good Luck Charlie (2010) - S02E24 - Alley Oops (1080p WEB-DL x265 Panda).ass',\n",
       " 'S02E15': 'data/公开数据/Good Luck Charlie (2010)/S02/Good Luck Charlie (2010) - S02E15 - Bye Bye Video Diary (1080p WEB-DL x265 Panda).ass',\n",
       " 'S02E14': \"data/公开数据/Good Luck Charlie (2010)/S02/Good Luck Charlie (2010) - S02E14 - Baby's New Shoes (1080p WEB-DL x265 Panda).ass\",\n",
       " 'S02E26': 'data/公开数据/Good Luck Charlie (2010)/S02/Good Luck Charlie (2010) - S02E26 - Return to Super Adventure Land (1080p WEB-DL x265 Panda).ass',\n",
       " 'S02E08': \"data/公开数据/Good Luck Charlie (2010)/S02/Good Luck Charlie (2010) - S02E08 - The Singin' Dancin' Duncans (1080p WEB-DL x265 Panda).ass\",\n",
       " 'S02E23': 'data/公开数据/Good Luck Charlie (2010)/S02/Good Luck Charlie (2010) - S02E23 - Ditch Day (1080p WEB-DL x265 Panda).ass',\n",
       " 'S02E09': \"data/公开数据/Good Luck Charlie (2010)/S02/Good Luck Charlie (2010) - S02E09 - Teddy's Bear (1080p WEB-DL x265 Panda).ass\",\n",
       " 'S02E27': 'data/公开数据/Good Luck Charlie (2010)/S02/Good Luck Charlie (2010) - S02E27 - Can You Keep a Secret (1080p WEB-DL x265 Panda).ass',\n",
       " 'S02E20': 'data/公开数据/Good Luck Charlie (2010)/S02/Good Luck Charlie (2010) - S02E20 - Amazing Gracie (1080p WEB-DL x265 Panda).ass',\n",
       " 'S02E01': 'data/公开数据/Good Luck Charlie (2010)/S02/Good Luck Charlie (2010) - S02E01 - Charlie Is 2 (1080p WEB-DL x265 Panda).ass',\n",
       " 'S02E16': 'data/公开数据/Good Luck Charlie (2010)/S02/Good Luck Charlie (2010) - S02E16 - Monkey Business (1080p WEB-DL x265 Panda).ass',\n",
       " 'S02E19': 'data/公开数据/Good Luck Charlie (2010)/S02/Good Luck Charlie (2010) - S02E19 - Sun Show - Part 2 (1080p WEB-DL x265 Panda).ass',\n",
       " 'S02E02': \"data/公开数据/Good Luck Charlie (2010)/S02/Good Luck Charlie (2010) - S02E02 - Something's Fishy (1080p WEB-DL x265 Panda).ass\",\n",
       " 'S02E17': 'data/公开数据/Good Luck Charlie (2010)/S02/Good Luck Charlie (2010) - S02E17 - PJ in the City (1080p WEB-DL x265 Panda).ass',\n",
       " 'S02E10': 'data/公开数据/Good Luck Charlie (2010)/S02/Good Luck Charlie (2010) - S02E10 - Meet the Parents (1080p WEB-DL x265 Panda).ass',\n",
       " 'S02E07': 'data/公开数据/Good Luck Charlie (2010)/S02/Good Luck Charlie (2010) - S02E07 - Battle of the Bands (1080p WEB-DL x265 Panda).ass',\n",
       " 'S02E03': \"data/公开数据/Good Luck Charlie (2010)/S02/Good Luck Charlie (2010) - S02E03 - Let's Potty (1080p WEB-DL x265 Panda).ass\",\n",
       " 'S02E18': 'data/公开数据/Good Luck Charlie (2010)/S02/Good Luck Charlie (2010) - S02E18 - Sun Show - Part 1 (1080p WEB-DL x265 Panda).ass',\n",
       " 'S02E12': 'data/公开数据/Good Luck Charlie (2010)/S02/Good Luck Charlie (2010) - S02E12 - The Break Up (1080p WEB-DL x265 Panda).ass'}"
      ]
     },
     "execution_count": 4,
     "metadata": {},
     "output_type": "execute_result"
    }
   ],
   "source": [
    "subtitle_path_dict = json.load(open('data/公开数据/Good Luck Charlie (2010)/subtitle_path_dict.json'))\n",
    "subtitle_path_dict"
   ]
  },
  {
   "cell_type": "code",
   "execution_count": 5,
   "id": "pleased-sussex",
   "metadata": {},
   "outputs": [
    {
     "data": {
      "text/plain": [
       "['S01E01',\n",
       " 'S01E02',\n",
       " 'S01E03',\n",
       " 'S01E04',\n",
       " 'S01E05',\n",
       " 'S01E06',\n",
       " 'S01E07',\n",
       " 'S01E08',\n",
       " 'S01E09',\n",
       " 'S01E10']"
      ]
     },
     "execution_count": 5,
     "metadata": {},
     "output_type": "execute_result"
    }
   ],
   "source": [
    "fname_list = list(subtitle_path_dict.keys())\n",
    "fname_list.sort()\n",
    "fname_list[:10]"
   ]
  },
  {
   "cell_type": "code",
   "execution_count": 6,
   "id": "260c46a8",
   "metadata": {
    "scrolled": true
   },
   "outputs": [],
   "source": [
    "all_text_list = []\n",
    "for fname in fname_list:\n",
    "    try:\n",
    "        eng_text_list, all_text = load_subtitle(fname, subtitle_path_dict)\n",
    "        all_text_list.append(all_text)\n",
    "    except:\n",
    "        pass"
   ]
  },
  {
   "cell_type": "code",
   "execution_count": 8,
   "id": "handed-consent",
   "metadata": {},
   "outputs": [],
   "source": [
    "with open('data/after_preprocess/all_text.txt','w') as f:\n",
    "    f.write(\"\\n\".join(all_text_list))"
   ]
  },
  {
   "cell_type": "code",
   "execution_count": null,
   "id": "40de15f5",
   "metadata": {},
   "outputs": [],
   "source": []
  }
 ],
 "metadata": {
  "kernelspec": {
   "display_name": "Python 3",
   "language": "python",
   "name": "python3"
  },
  "language_info": {
   "codemirror_mode": {
    "name": "ipython",
    "version": 3
   },
   "file_extension": ".py",
   "mimetype": "text/x-python",
   "name": "python",
   "nbconvert_exporter": "python",
   "pygments_lexer": "ipython3",
   "version": "3.7.5"
  },
  "toc": {
   "base_numbering": 1,
   "nav_menu": {},
   "number_sections": true,
   "sideBar": true,
   "skip_h1_title": false,
   "title_cell": "Table of Contents",
   "title_sidebar": "Contents",
   "toc_cell": false,
   "toc_position": {},
   "toc_section_display": true,
   "toc_window_display": false
  }
 },
 "nbformat": 4,
 "nbformat_minor": 5
}
