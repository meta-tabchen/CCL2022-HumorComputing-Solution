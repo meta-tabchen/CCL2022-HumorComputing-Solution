{
 "cells": [
  {
   "cell_type": "code",
   "execution_count": null,
   "id": "caa12111",
   "metadata": {},
   "outputs": [],
   "source": [
    "import pickle"
   ]
  },
  {
   "cell_type": "markdown",
   "id": "787fe1a9",
   "metadata": {},
   "source": [
    "## 流利度\n",
    "\n",
    "[参考](https://www.kaggle.com/code/alvations/n-gram-language-model-with-nltk)"
   ]
  },
  {
   "cell_type": "markdown",
   "id": "mathematical-angola",
   "metadata": {},
   "source": [
    "### 训练"
   ]
  },
  {
   "cell_type": "code",
   "execution_count": null,
   "id": "88e34fa3",
   "metadata": {},
   "outputs": [],
   "source": [
    "from nltk.util import pad_sequence\n",
    "from nltk.util import bigrams\n",
    "from nltk.util import ngrams\n",
    "from nltk.util import everygrams\n",
    "from nltk.lm.preprocessing import pad_both_ends\n",
    "from nltk.lm.preprocessing import flatten"
   ]
  },
  {
   "cell_type": "code",
   "execution_count": null,
   "id": "israeli-obligation",
   "metadata": {},
   "outputs": [],
   "source": [
    "from nltk import word_tokenize, sent_tokenize "
   ]
  },
  {
   "cell_type": "code",
   "execution_count": null,
   "id": "0bd9630b",
   "metadata": {},
   "outputs": [],
   "source": [
    "try: # Use the default NLTK tokenizer.\n",
    "    from nltk import word_tokenize, sent_tokenize \n",
    "    # Testing whether it works. \n",
    "    # Sometimes it doesn't work on some machines because of setup issues.\n",
    "    word_tokenize(sent_tokenize(\"This is a foobar sentence. Yes it is.\")[0])\n",
    "except: # Use a naive sentence tokenizer and toktok.\n",
    "    import re\n",
    "    from nltk.tokenize import ToktokTokenizer\n",
    "    # See https://stackoverflow.com/a/25736515/610569\n",
    "    sent_tokenize = lambda x: re.split(r'(?<=[^A-Z].[.?]) +(?=[A-Z])', x)\n",
    "    # Use the toktok tokenizer that requires no dependencies.\n",
    "    toktok = ToktokTokenizer()\n",
    "    word_tokenize = toktok.tokenize"
   ]
  },
  {
   "cell_type": "code",
   "execution_count": null,
   "id": "ec8f21a0",
   "metadata": {},
   "outputs": [],
   "source": [
    "test_sentence = \"This is a foobar sentence. Yes it is.\"\n",
    "word_tokenize(test_sentence)"
   ]
  },
  {
   "cell_type": "code",
   "execution_count": null,
   "id": "1dbfb938",
   "metadata": {},
   "outputs": [],
   "source": [
    "import pandas as pd"
   ]
  },
  {
   "cell_type": "code",
   "execution_count": null,
   "id": "085cbac4",
   "metadata": {
    "scrolled": true
   },
   "outputs": [],
   "source": [
    "df_all_text = pd.read_csv('data/公开数据/Good Luck Charlie (2010)/all_text.csv')\n",
    "df_train = pd.read_csv('data/after_preprocess/task1_charlie_train.csv')\n",
    "sentences = df_train['Sentence'].tolist()+df_all_text['text'].tolist()\n",
    "sentences = [x.lower() for x in sentences]\n",
    "tokenized_text = [list(map(str.lower, word_tokenize(sent)))\n",
    "                  for sent in sentences]"
   ]
  },
  {
   "cell_type": "code",
   "execution_count": null,
   "id": "dcfd98f4",
   "metadata": {},
   "outputs": [],
   "source": [
    "len(tokenized_text)"
   ]
  },
  {
   "cell_type": "code",
   "execution_count": null,
   "id": "a8e4b926",
   "metadata": {
    "scrolled": true
   },
   "outputs": [],
   "source": [
    "sentences[0],tokenized_text[0]"
   ]
  },
  {
   "cell_type": "code",
   "execution_count": null,
   "id": "2ac46880",
   "metadata": {},
   "outputs": [],
   "source": [
    "from nltk.lm.preprocessing import padded_everygram_pipeline"
   ]
  },
  {
   "cell_type": "code",
   "execution_count": null,
   "id": "20c76e88",
   "metadata": {},
   "outputs": [],
   "source": [
    "n = 2"
   ]
  },
  {
   "cell_type": "code",
   "execution_count": null,
   "id": "337a81f9",
   "metadata": {},
   "outputs": [],
   "source": [
    "train_data, padded_sents = padded_everygram_pipeline(n, tokenized_text)"
   ]
  },
  {
   "cell_type": "code",
   "execution_count": null,
   "id": "c88832c9",
   "metadata": {},
   "outputs": [],
   "source": [
    "from nltk.lm import MLE\n",
    "model = MLE(n)"
   ]
  },
  {
   "cell_type": "code",
   "execution_count": null,
   "id": "a11b285e",
   "metadata": {},
   "outputs": [],
   "source": [
    "model.fit(train_data, padded_sents)\n",
    "print(model.vocab)"
   ]
  },
  {
   "cell_type": "code",
   "execution_count": null,
   "id": "b91e82e4",
   "metadata": {},
   "outputs": [],
   "source": [
    "len(model.vocab)"
   ]
  },
  {
   "cell_type": "code",
   "execution_count": null,
   "id": "medieval-powell",
   "metadata": {},
   "outputs": [],
   "source": [
    "with open('model/task2_sent_p.model','wb') as f:\n",
    "    pickle.dump(model,f)"
   ]
  },
  {
   "cell_type": "markdown",
   "id": "annual-detector",
   "metadata": {},
   "source": [
    "### 帮助函数"
   ]
  },
  {
   "cell_type": "code",
   "execution_count": null,
   "id": "specialized-cooking",
   "metadata": {},
   "outputs": [],
   "source": [
    "def get_new_score(score):\n",
    "    if score==1:\n",
    "        return score\n",
    "    score = '%e' % score\n",
    "    return (100-int(str(score).split('.')[0])*int(str(score).split('e-')[-1]))/100\n",
    "\n",
    "def get_p_score(sent, details=False):\n",
    "    sent = sent.lower()\n",
    "    words = word_tokenize(sent)\n",
    "    score = 1\n",
    "    for i in range(len(words)-1):\n",
    "        score_item = model.score(words[i+1], [words[i]])\n",
    "        if details:\n",
    "            print(f\"p({words[i+1]}|{words[i]})={score_item}\")\n",
    "        if score_item == 0:\n",
    "            continue\n",
    "        else:\n",
    "            score = score*score_item\n",
    "    score = get_new_score(score)\n",
    "    return score"
   ]
  },
  {
   "cell_type": "markdown",
   "id": "middle-turtle",
   "metadata": {},
   "source": [
    "### 使用"
   ]
  },
  {
   "cell_type": "code",
   "execution_count": null,
   "id": "actual-supplement",
   "metadata": {},
   "outputs": [],
   "source": [
    "try: # Use the default NLTK tokenizer.\n",
    "    from nltk import word_tokenize, sent_tokenize \n",
    "    # Testing whether it works. \n",
    "    # Sometimes it doesn't work on some machines because of setup issues.\n",
    "    word_tokenize(sent_tokenize(\"This is a foobar sentence. Yes it is.\")[0])\n",
    "except: # Use a naive sentence tokenizer and toktok.\n",
    "    import re\n",
    "    from nltk.tokenize import ToktokTokenizer\n",
    "    # See https://stackoverflow.com/a/25736515/610569\n",
    "    sent_tokenize = lambda x: re.split(r'(?<=[^A-Z].[.?]) +(?=[A-Z])', x)\n",
    "    # Use the toktok tokenizer that requires no dependencies.\n",
    "    toktok = ToktokTokenizer()\n",
    "    word_tokenize = toktok.tokenize"
   ]
  },
  {
   "cell_type": "code",
   "execution_count": null,
   "id": "c5d7bd6e",
   "metadata": {},
   "outputs": [],
   "source": [
    "sent_p_model = pickle.load(open('model/task2_sent_p.model','rb'))"
   ]
  },
  {
   "cell_type": "code",
   "execution_count": null,
   "id": "activated-jesus",
   "metadata": {},
   "outputs": [],
   "source": [
    "sent_p_model.score('love',['me'])"
   ]
  },
  {
   "cell_type": "code",
   "execution_count": null,
   "id": "greenhouse-springer",
   "metadata": {},
   "outputs": [],
   "source": [
    "def get_new_score(score):\n",
    "    if score==1:\n",
    "        return score\n",
    "    score = '%e' % score\n",
    "    return (100-int(str(score).split('.')[0])*int(str(score).split('e-')[-1]))/100\n",
    "\n",
    "def get_p_score(sent,model=sent_p_model,details=False):\n",
    "    sent = sent.lower()\n",
    "    words = word_tokenize(sent)\n",
    "    score = 1\n",
    "    for i in range(len(words)-1):\n",
    "        score_item = model.score(words[i+1], [words[i]])\n",
    "        if details:\n",
    "            print(f\"p({words[i+1]}|{words[i]})={score_item}\")\n",
    "        if score_item == 0:\n",
    "            continue\n",
    "        else:\n",
    "            score = score*score_item\n",
    "    score = get_new_score(score)\n",
    "    return score"
   ]
  },
  {
   "cell_type": "code",
   "execution_count": null,
   "id": "assisted-programmer",
   "metadata": {},
   "outputs": [],
   "source": [
    "input_js_list = pickle.load(open('data/after_preprocess/task2/input_js_list_gen.pkl','rb'))\n",
    "len(input_js_list)"
   ]
  },
  {
   "cell_type": "code",
   "execution_count": null,
   "id": "seventh-stamp",
   "metadata": {
    "scrolled": true
   },
   "outputs": [],
   "source": [
    "sentence_list = []\n",
    "for input_js in input_js_list:\n",
    "    df_hy = pd.DataFrame({\"text\": input_js['gen_text_list']})\n",
    "    df_hy['score'] = df_hy['text'].apply(lambda x: get_p_score(x))\n",
    "    df_hy = df_hy.sort_values(\"score\", ascending=False)\n",
    "    sentence_list.append(df_hy.iloc[0]['text'])"
   ]
  },
  {
   "cell_type": "code",
   "execution_count": null,
   "id": "dramatic-recipe",
   "metadata": {},
   "outputs": [],
   "source": [
    "df_label = pd.read_csv('data/after_preprocess/task2_df_test_dict.csv')\n",
    "len(df_label)"
   ]
  },
  {
   "cell_type": "code",
   "execution_count": null,
   "id": "absent-closer",
   "metadata": {
    "scrolled": true
   },
   "outputs": [],
   "source": [
    "df_label['Sentence'] = sentence_list"
   ]
  },
  {
   "cell_type": "code",
   "execution_count": null,
   "id": "23de465f",
   "metadata": {},
   "outputs": [],
   "source": [
    "row_list = []\n",
    "for _,row in df_label.iterrows():\n",
    "    for speaker in row['Speaker'].split(\";\"):\n",
    "        one_line = row.to_dict()\n",
    "        one_line['Speaker'] = speaker\n",
    "        row_list.append(one_line)\n",
    "df_submit = pd.DataFrame(row_list)"
   ]
  },
  {
   "cell_type": "code",
   "execution_count": null,
   "id": "e94f062e",
   "metadata": {},
   "outputs": [],
   "source": [
    "df_submit['Dialogue_id'] = df_submit['Dialogue_id_old']"
   ]
  },
  {
   "cell_type": "code",
   "execution_count": null,
   "id": "49004cdc",
   "metadata": {
    "scrolled": true
   },
   "outputs": [],
   "source": [
    "df_submit"
   ]
  },
  {
   "cell_type": "code",
   "execution_count": null,
   "id": "712e1122",
   "metadata": {},
   "outputs": [],
   "source": [
    "keep_cols = ['fname','Dialogue_id','Speaker','Sentence']\n",
    "week_name = \"final2_0923\""
   ]
  },
  {
   "cell_type": "code",
   "execution_count": null,
   "id": "63a9ee20",
   "metadata": {},
   "outputs": [],
   "source": [
    "df_submit[keep_cols].to_csv(f'data/TAL-JNU_任务2.csv',index=False)"
   ]
  },
  {
   "cell_type": "code",
   "execution_count": null,
   "id": "republican-arrow",
   "metadata": {},
   "outputs": [],
   "source": [
    "df_submit.shape"
   ]
  }
 ],
 "metadata": {
  "kernelspec": {
   "display_name": "Python 3",
   "language": "python",
   "name": "python3"
  },
  "language_info": {
   "codemirror_mode": {
    "name": "ipython",
    "version": 3
   },
   "file_extension": ".py",
   "mimetype": "text/x-python",
   "name": "python",
   "nbconvert_exporter": "python",
   "pygments_lexer": "ipython3",
   "version": "3.7.5"
  },
  "toc": {
   "base_numbering": 1,
   "nav_menu": {},
   "number_sections": true,
   "sideBar": true,
   "skip_h1_title": false,
   "title_cell": "Table of Contents",
   "title_sidebar": "Contents",
   "toc_cell": false,
   "toc_position": {},
   "toc_section_display": true,
   "toc_window_display": true
  }
 },
 "nbformat": 4,
 "nbformat_minor": 5
}
