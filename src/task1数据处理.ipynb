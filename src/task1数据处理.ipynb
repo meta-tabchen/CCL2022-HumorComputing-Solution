{
 "cells": [
  {
   "cell_type": "code",
   "execution_count": 1,
   "metadata": {},
   "outputs": [],
   "source": [
    "%load_ext autoreload\n",
    "%autoreload 2"
   ]
  },
  {
   "cell_type": "code",
   "execution_count": 2,
   "metadata": {
    "scrolled": true
   },
   "outputs": [
    {
     "name": "stderr",
     "output_type": "stream",
     "text": [
      "Using TensorFlow backend.\n",
      "/root/anaconda3/envs/4s_dev/lib/python3.7/site-packages/tensorflow/python/framework/dtypes.py:526: FutureWarning: Passing (type, 1) or '1type' as a synonym of type is deprecated; in a future version of numpy, it will be understood as (type, (1,)) / '(1,)type'.\n",
      "  _np_qint8 = np.dtype([(\"qint8\", np.int8, 1)])\n",
      "/root/anaconda3/envs/4s_dev/lib/python3.7/site-packages/tensorflow/python/framework/dtypes.py:527: FutureWarning: Passing (type, 1) or '1type' as a synonym of type is deprecated; in a future version of numpy, it will be understood as (type, (1,)) / '(1,)type'.\n",
      "  _np_quint8 = np.dtype([(\"quint8\", np.uint8, 1)])\n",
      "/root/anaconda3/envs/4s_dev/lib/python3.7/site-packages/tensorflow/python/framework/dtypes.py:528: FutureWarning: Passing (type, 1) or '1type' as a synonym of type is deprecated; in a future version of numpy, it will be understood as (type, (1,)) / '(1,)type'.\n",
      "  _np_qint16 = np.dtype([(\"qint16\", np.int16, 1)])\n",
      "/root/anaconda3/envs/4s_dev/lib/python3.7/site-packages/tensorflow/python/framework/dtypes.py:529: FutureWarning: Passing (type, 1) or '1type' as a synonym of type is deprecated; in a future version of numpy, it will be understood as (type, (1,)) / '(1,)type'.\n",
      "  _np_quint16 = np.dtype([(\"quint16\", np.uint16, 1)])\n",
      "/root/anaconda3/envs/4s_dev/lib/python3.7/site-packages/tensorflow/python/framework/dtypes.py:530: FutureWarning: Passing (type, 1) or '1type' as a synonym of type is deprecated; in a future version of numpy, it will be understood as (type, (1,)) / '(1,)type'.\n",
      "  _np_qint32 = np.dtype([(\"qint32\", np.int32, 1)])\n",
      "/root/anaconda3/envs/4s_dev/lib/python3.7/site-packages/tensorflow/python/framework/dtypes.py:535: FutureWarning: Passing (type, 1) or '1type' as a synonym of type is deprecated; in a future version of numpy, it will be understood as (type, (1,)) / '(1,)type'.\n",
      "  np_resource = np.dtype([(\"resource\", np.ubyte, 1)])\n"
     ]
    }
   ],
   "source": [
    "import os\n",
    "import sys\n",
    "import pandas as pd\n",
    "sys.path.append('auto_text_classifier')\n",
    "from atc.models.aml import AML\n",
    "from atc.utils.data_utils import load_df,init_dir\n",
    "from atc.utils.data_utils import get_data_report\n",
    "import numpy as np\n",
    "import json\n",
    "import random\n",
    "from utils.data_proprocess import clean_raw_sentence"
   ]
  },
  {
   "cell_type": "markdown",
   "metadata": {},
   "source": [
    "## 原始数据合并"
   ]
  },
  {
   "cell_type": "code",
   "execution_count": 3,
   "metadata": {},
   "outputs": [],
   "source": [
    "keep_cols = ['Id', 'Dialogue_id', 'Utterance_id', 'Sentence', 'Speaker', 'Label']"
   ]
  },
  {
   "cell_type": "code",
   "execution_count": 4,
   "metadata": {},
   "outputs": [],
   "source": [
    "def clean_df(df):\n",
    "    df = df.dropna().copy()\n",
    "    for int_col in ['Dialogue_id','Id','Label','Utterance_id']:\n",
    "        print(int_col)\n",
    "        df[int_col] = df[int_col].apply(int)\n",
    "    df['Speaker'] = df['Speaker'].apply(lambda x: str(x).strip())\n",
    "    df['Sentence'] = df['Sentence'].apply(lambda x: str(x).strip())\n",
    "    df['Sentence'] = df['Sentence'].apply(clean_raw_sentence)\n",
    "    df = df[df['Sentence']!=\"\"]\n",
    "    df = df[df['Label'].isin([0,1])]\n",
    "    return df"
   ]
  },
  {
   "cell_type": "markdown",
   "metadata": {},
   "source": [
    "### charlie"
   ]
  },
  {
   "cell_type": "code",
   "execution_count": 5,
   "metadata": {
    "scrolled": true
   },
   "outputs": [
    {
     "name": "stdout",
     "output_type": "stream",
     "text": [
      "Dialogue_id\n",
      "Id\n",
      "Label\n",
      "Utterance_id\n"
     ]
    },
    {
     "data": {
      "text/plain": [
       "(18855, 7)"
      ]
     },
     "execution_count": 5,
     "metadata": {},
     "output_type": "execute_result"
    }
   ],
   "source": [
    "data_dir = 'data/官方数据/train/'\n",
    "df_list = []\n",
    "for fname in os.listdir(data_dir):\n",
    "    if not '.csv' in fname:\n",
    "        continue\n",
    "    df = pd.read_csv(os.path.join(data_dir, fname))\n",
    "    new_cols = [x.capitalize() for x in list(df.columns)]\n",
    "    df.columns = new_cols\n",
    "    if df.shape[1] != 6 or len(set(new_cols) & set(keep_cols)) != 6:\n",
    "        print(fname)\n",
    "    df['fname'] = fname\n",
    "    df_list.append(df)\n",
    "df = pd.concat(df_list)  # [keep_cols]\n",
    "df = clean_df(df)\n",
    "df.shape"
   ]
  },
  {
   "cell_type": "code",
   "execution_count": 6,
   "metadata": {},
   "outputs": [
    {
     "data": {
      "text/html": [
       "<div>\n",
       "<style scoped>\n",
       "    .dataframe tbody tr th:only-of-type {\n",
       "        vertical-align: middle;\n",
       "    }\n",
       "\n",
       "    .dataframe tbody tr th {\n",
       "        vertical-align: top;\n",
       "    }\n",
       "\n",
       "    .dataframe thead th {\n",
       "        text-align: right;\n",
       "    }\n",
       "</style>\n",
       "<table border=\"1\" class=\"dataframe\">\n",
       "  <thead>\n",
       "    <tr style=\"text-align: right;\">\n",
       "      <th></th>\n",
       "      <th>Id</th>\n",
       "      <th>Dialogue_id</th>\n",
       "      <th>Utterance_id</th>\n",
       "      <th>Sentence</th>\n",
       "      <th>Speaker</th>\n",
       "      <th>Label</th>\n",
       "      <th>fname</th>\n",
       "    </tr>\n",
       "  </thead>\n",
       "  <tbody>\n",
       "  </tbody>\n",
       "</table>\n",
       "</div>"
      ],
      "text/plain": [
       "Empty DataFrame\n",
       "Columns: [Id, Dialogue_id, Utterance_id, Sentence, Speaker, Label, fname]\n",
       "Index: []"
      ]
     },
     "execution_count": 6,
     "metadata": {},
     "output_type": "execute_result"
    }
   ],
   "source": [
    "df[df['Sentence'].isna()]"
   ]
  },
  {
   "cell_type": "code",
   "execution_count": 7,
   "metadata": {},
   "outputs": [
    {
     "data": {
      "text/plain": [
       "(18855, 7)"
      ]
     },
     "execution_count": 7,
     "metadata": {},
     "output_type": "execute_result"
    }
   ],
   "source": [
    "df.shape"
   ]
  },
  {
   "cell_type": "code",
   "execution_count": 8,
   "metadata": {},
   "outputs": [
    {
     "data": {
      "text/plain": [
       "0    0.846142\n",
       "1    0.153858\n",
       "Name: Label, dtype: float64"
      ]
     },
     "execution_count": 8,
     "metadata": {},
     "output_type": "execute_result"
    }
   ],
   "source": [
    "df['Label'].value_counts(normalize=True)"
   ]
  },
  {
   "cell_type": "code",
   "execution_count": 9,
   "metadata": {},
   "outputs": [],
   "source": [
    "df['Dialogue_id_old'] = df['Dialogue_id']\n",
    "df['Dialogue_id'] = df.apply(lambda x:f\"{x['fname']}_{x['Dialogue_id']}\",axis=1)"
   ]
  },
  {
   "cell_type": "code",
   "execution_count": 10,
   "metadata": {
    "scrolled": true
   },
   "outputs": [],
   "source": [
    "df.to_csv('data/after_preprocess/task1_charlie_train.csv',index=False)"
   ]
  },
  {
   "cell_type": "markdown",
   "metadata": {},
   "source": [
    "### task1dev数据"
   ]
  },
  {
   "cell_type": "code",
   "execution_count": 11,
   "metadata": {},
   "outputs": [
    {
     "data": {
      "text/plain": [
       "(2811, 7)"
      ]
     },
     "execution_count": 11,
     "metadata": {},
     "output_type": "execute_result"
    }
   ],
   "source": [
    "data_dir = 'data/官方数据/dev/task1 dev/'\n",
    "df_list = []\n",
    "for fname in os.listdir(data_dir):\n",
    "    if not '.csv' in fname:\n",
    "        continue\n",
    "    df = pd.read_csv(os.path.join(data_dir, fname))\n",
    "    df['Sentence'] = df['Sentence'].apply(clean_raw_sentence)\n",
    "    new_cols = [x.capitalize() for x in list(df.columns)]\n",
    "    df.columns = new_cols\n",
    "    df['fname'] = fname\n",
    "    df_list.append(df)\n",
    "df = pd.concat(df_list)  # [keep_cols]\n",
    "# df = clean_df(df)\n",
    "df.shape"
   ]
  },
  {
   "cell_type": "code",
   "execution_count": 12,
   "metadata": {
    "scrolled": true
   },
   "outputs": [],
   "source": [
    "df['Dialogue_id_old'] = df['Dialogue_id']\n",
    "df['Dialogue_id'] = df.apply(lambda x:f\"{x['fname']}_{x['Dialogue_id']}\",axis=1)"
   ]
  },
  {
   "cell_type": "code",
   "execution_count": 13,
   "metadata": {},
   "outputs": [
    {
     "data": {
      "text/html": [
       "<div>\n",
       "<style scoped>\n",
       "    .dataframe tbody tr th:only-of-type {\n",
       "        vertical-align: middle;\n",
       "    }\n",
       "\n",
       "    .dataframe tbody tr th {\n",
       "        vertical-align: top;\n",
       "    }\n",
       "\n",
       "    .dataframe thead th {\n",
       "        text-align: right;\n",
       "    }\n",
       "</style>\n",
       "<table border=\"1\" class=\"dataframe\">\n",
       "  <thead>\n",
       "    <tr style=\"text-align: right;\">\n",
       "      <th></th>\n",
       "      <th>Id</th>\n",
       "      <th>Dialogue_id</th>\n",
       "      <th>Utterance_id</th>\n",
       "      <th>Sentence</th>\n",
       "      <th>Speaker</th>\n",
       "      <th>Label</th>\n",
       "      <th>fname</th>\n",
       "      <th>Dialogue_id_old</th>\n",
       "    </tr>\n",
       "  </thead>\n",
       "  <tbody>\n",
       "    <tr>\n",
       "      <th>0</th>\n",
       "      <td>0</td>\n",
       "      <td>Charlie_S01E08.csv_1</td>\n",
       "      <td>0</td>\n",
       "      <td>Well, Charlie, today is a very special day.</td>\n",
       "      <td>Teddy</td>\n",
       "      <td>0.0</td>\n",
       "      <td>Charlie_S01E08.csv</td>\n",
       "      <td>1</td>\n",
       "    </tr>\n",
       "    <tr>\n",
       "      <th>1</th>\n",
       "      <td>1</td>\n",
       "      <td>Charlie_S01E08.csv_1</td>\n",
       "      <td>1</td>\n",
       "      <td>It's your first birthday! The whole family's e...</td>\n",
       "      <td>Teddy</td>\n",
       "      <td>0.0</td>\n",
       "      <td>Charlie_S01E08.csv</td>\n",
       "      <td>1</td>\n",
       "    </tr>\n",
       "    <tr>\n",
       "      <th>2</th>\n",
       "      <td>2</td>\n",
       "      <td>Charlie_S01E08.csv_1</td>\n",
       "      <td>2</td>\n",
       "      <td>Happy Birthday, sweetie.</td>\n",
       "      <td>Amy</td>\n",
       "      <td>0.0</td>\n",
       "      <td>Charlie_S01E08.csv</td>\n",
       "      <td>1</td>\n",
       "    </tr>\n",
       "    <tr>\n",
       "      <th>3</th>\n",
       "      <td>3</td>\n",
       "      <td>Charlie_S01E08.csv_1</td>\n",
       "      <td>3</td>\n",
       "      <td>I love you, baby girl.</td>\n",
       "      <td>Bob</td>\n",
       "      <td>0.0</td>\n",
       "      <td>Charlie_S01E08.csv</td>\n",
       "      <td>1</td>\n",
       "    </tr>\n",
       "    <tr>\n",
       "      <th>4</th>\n",
       "      <td>4</td>\n",
       "      <td>Charlie_S01E08.csv_1</td>\n",
       "      <td>4</td>\n",
       "      <td>You're the best.</td>\n",
       "      <td>PJ</td>\n",
       "      <td>0.0</td>\n",
       "      <td>Charlie_S01E08.csv</td>\n",
       "      <td>1</td>\n",
       "    </tr>\n",
       "    <tr>\n",
       "      <th>...</th>\n",
       "      <td>...</td>\n",
       "      <td>...</td>\n",
       "      <td>...</td>\n",
       "      <td>...</td>\n",
       "      <td>...</td>\n",
       "      <td>...</td>\n",
       "      <td>...</td>\n",
       "      <td>...</td>\n",
       "    </tr>\n",
       "    <tr>\n",
       "      <th>301</th>\n",
       "      <td>301</td>\n",
       "      <td>Charlie_S02E05.csv_17</td>\n",
       "      <td>0</td>\n",
       "      <td>So elegant, so poised.</td>\n",
       "      <td>Others</td>\n",
       "      <td>0.0</td>\n",
       "      <td>Charlie_S02E05.csv</td>\n",
       "      <td>17</td>\n",
       "    </tr>\n",
       "    <tr>\n",
       "      <th>302</th>\n",
       "      <td>302</td>\n",
       "      <td>Charlie_S02E05.csv_17</td>\n",
       "      <td>1</td>\n",
       "      <td>Such sophistication.</td>\n",
       "      <td>Others</td>\n",
       "      <td>0.0</td>\n",
       "      <td>Charlie_S02E05.csv</td>\n",
       "      <td>17</td>\n",
       "    </tr>\n",
       "    <tr>\n",
       "      <th>303</th>\n",
       "      <td>303</td>\n",
       "      <td>Charlie_S02E05.csv_17</td>\n",
       "      <td>2</td>\n",
       "      <td>Our finest pupil ever, Mrs.Krump.</td>\n",
       "      <td>Others</td>\n",
       "      <td>0.0</td>\n",
       "      <td>Charlie_S02E05.csv</td>\n",
       "      <td>17</td>\n",
       "    </tr>\n",
       "    <tr>\n",
       "      <th>304</th>\n",
       "      <td>304</td>\n",
       "      <td>Charlie_S02E05.csv_17</td>\n",
       "      <td>3</td>\n",
       "      <td>Uh-oh.</td>\n",
       "      <td>Charlie</td>\n",
       "      <td>0.0</td>\n",
       "      <td>Charlie_S02E05.csv</td>\n",
       "      <td>17</td>\n",
       "    </tr>\n",
       "    <tr>\n",
       "      <th>305</th>\n",
       "      <td>305</td>\n",
       "      <td>Charlie_S02E05.csv_17</td>\n",
       "      <td>4</td>\n",
       "      <td>She's the last of the Duncan kids, right, Mrs....</td>\n",
       "      <td>Others</td>\n",
       "      <td>1.0</td>\n",
       "      <td>Charlie_S02E05.csv</td>\n",
       "      <td>17</td>\n",
       "    </tr>\n",
       "  </tbody>\n",
       "</table>\n",
       "<p>2811 rows × 8 columns</p>\n",
       "</div>"
      ],
      "text/plain": [
       "      Id            Dialogue_id  Utterance_id  \\\n",
       "0      0   Charlie_S01E08.csv_1             0   \n",
       "1      1   Charlie_S01E08.csv_1             1   \n",
       "2      2   Charlie_S01E08.csv_1             2   \n",
       "3      3   Charlie_S01E08.csv_1             3   \n",
       "4      4   Charlie_S01E08.csv_1             4   \n",
       "..   ...                    ...           ...   \n",
       "301  301  Charlie_S02E05.csv_17             0   \n",
       "302  302  Charlie_S02E05.csv_17             1   \n",
       "303  303  Charlie_S02E05.csv_17             2   \n",
       "304  304  Charlie_S02E05.csv_17             3   \n",
       "305  305  Charlie_S02E05.csv_17             4   \n",
       "\n",
       "                                              Sentence  Speaker  Label  \\\n",
       "0          Well, Charlie, today is a very special day.    Teddy    0.0   \n",
       "1    It's your first birthday! The whole family's e...    Teddy    0.0   \n",
       "2                             Happy Birthday, sweetie.      Amy    0.0   \n",
       "3                               I love you, baby girl.      Bob    0.0   \n",
       "4                                     You're the best.       PJ    0.0   \n",
       "..                                                 ...      ...    ...   \n",
       "301                             So elegant, so poised.   Others    0.0   \n",
       "302                               Such sophistication.   Others    0.0   \n",
       "303                  Our finest pupil ever, Mrs.Krump.   Others    0.0   \n",
       "304                                             Uh-oh.  Charlie    0.0   \n",
       "305  She's the last of the Duncan kids, right, Mrs....   Others    1.0   \n",
       "\n",
       "                  fname  Dialogue_id_old  \n",
       "0    Charlie_S01E08.csv                1  \n",
       "1    Charlie_S01E08.csv                1  \n",
       "2    Charlie_S01E08.csv                1  \n",
       "3    Charlie_S01E08.csv                1  \n",
       "4    Charlie_S01E08.csv                1  \n",
       "..                  ...              ...  \n",
       "301  Charlie_S02E05.csv               17  \n",
       "302  Charlie_S02E05.csv               17  \n",
       "303  Charlie_S02E05.csv               17  \n",
       "304  Charlie_S02E05.csv               17  \n",
       "305  Charlie_S02E05.csv               17  \n",
       "\n",
       "[2811 rows x 8 columns]"
      ]
     },
     "execution_count": 13,
     "metadata": {},
     "output_type": "execute_result"
    }
   ],
   "source": [
    "df"
   ]
  },
  {
   "cell_type": "code",
   "execution_count": 14,
   "metadata": {},
   "outputs": [
    {
     "data": {
      "text/plain": [
       "0.0    2448\n",
       "1.0     363\n",
       "Name: Label, dtype: int64"
      ]
     },
     "execution_count": 14,
     "metadata": {},
     "output_type": "execute_result"
    }
   ],
   "source": [
    "df['Label'].value_counts()"
   ]
  },
  {
   "cell_type": "code",
   "execution_count": 15,
   "metadata": {},
   "outputs": [],
   "source": [
    "df.to_csv('data/after_preprocess/task1_charlie_dev.csv',index=False)"
   ]
  },
  {
   "cell_type": "code",
   "execution_count": null,
   "metadata": {},
   "outputs": [],
   "source": []
  },
  {
   "cell_type": "markdown",
   "metadata": {},
   "source": [
    "### task1 test"
   ]
  },
  {
   "cell_type": "code",
   "execution_count": 16,
   "metadata": {},
   "outputs": [
    {
     "data": {
      "text/plain": [
       "(4122, 6)"
      ]
     },
     "execution_count": 16,
     "metadata": {},
     "output_type": "execute_result"
    }
   ],
   "source": [
    "data_dir = 'data/官方数据/test/task1_test/'\n",
    "df_list = []\n",
    "for fname in os.listdir(data_dir):\n",
    "    if not '.csv' in fname:\n",
    "        continue\n",
    "    df = pd.read_csv(os.path.join(data_dir, fname))\n",
    "    df['Sentence'] = df['Sentence'].apply(clean_raw_sentence)\n",
    "    new_cols = [x.capitalize() for x in list(df.columns)]\n",
    "    df.columns = new_cols\n",
    "    df['fname'] = fname\n",
    "    df_list.append(df)\n",
    "df = pd.concat(df_list)  # [keep_cols]\n",
    "# df = clean_df(df)\n",
    "df.shape"
   ]
  },
  {
   "cell_type": "code",
   "execution_count": 17,
   "metadata": {
    "scrolled": true
   },
   "outputs": [],
   "source": [
    "df['Dialogue_id_old'] = df['Dialogue_id']\n",
    "df['Dialogue_id'] = df.apply(lambda x:f\"{x['fname']}_{x['Dialogue_id']}\",axis=1)"
   ]
  },
  {
   "cell_type": "code",
   "execution_count": 18,
   "metadata": {},
   "outputs": [
    {
     "data": {
      "text/html": [
       "<div>\n",
       "<style scoped>\n",
       "    .dataframe tbody tr th:only-of-type {\n",
       "        vertical-align: middle;\n",
       "    }\n",
       "\n",
       "    .dataframe tbody tr th {\n",
       "        vertical-align: top;\n",
       "    }\n",
       "\n",
       "    .dataframe thead th {\n",
       "        text-align: right;\n",
       "    }\n",
       "</style>\n",
       "<table border=\"1\" class=\"dataframe\">\n",
       "  <thead>\n",
       "    <tr style=\"text-align: right;\">\n",
       "      <th></th>\n",
       "      <th>Id</th>\n",
       "      <th>Dialogue_id</th>\n",
       "      <th>Utterance_id</th>\n",
       "      <th>Sentence</th>\n",
       "      <th>Speaker</th>\n",
       "      <th>fname</th>\n",
       "      <th>Dialogue_id_old</th>\n",
       "    </tr>\n",
       "  </thead>\n",
       "  <tbody>\n",
       "    <tr>\n",
       "      <th>0</th>\n",
       "      <td>7575</td>\n",
       "      <td>S04E16.csv_1</td>\n",
       "      <td>0</td>\n",
       "      <td>[Music] Howdy, Duncans.</td>\n",
       "      <td>Beau</td>\n",
       "      <td>S04E16.csv</td>\n",
       "      <td>1</td>\n",
       "    </tr>\n",
       "    <tr>\n",
       "      <th>1</th>\n",
       "      <td>7576</td>\n",
       "      <td>S04E16.csv_1</td>\n",
       "      <td>1</td>\n",
       "      <td>Hey.</td>\n",
       "      <td>Bob</td>\n",
       "      <td>S04E16.csv</td>\n",
       "      <td>1</td>\n",
       "    </tr>\n",
       "    <tr>\n",
       "      <th>2</th>\n",
       "      <td>7577</td>\n",
       "      <td>S04E16.csv_1</td>\n",
       "      <td>2</td>\n",
       "      <td>Hey, Beau.</td>\n",
       "      <td>Teddy</td>\n",
       "      <td>S04E16.csv</td>\n",
       "      <td>1</td>\n",
       "    </tr>\n",
       "    <tr>\n",
       "      <th>3</th>\n",
       "      <td>7578</td>\n",
       "      <td>S04E16.csv_1</td>\n",
       "      <td>3</td>\n",
       "      <td>Morning, Sweetie.</td>\n",
       "      <td>Beau</td>\n",
       "      <td>S04E16.csv</td>\n",
       "      <td>1</td>\n",
       "    </tr>\n",
       "    <tr>\n",
       "      <th>4</th>\n",
       "      <td>7579</td>\n",
       "      <td>S04E16.csv_1</td>\n",
       "      <td>4</td>\n",
       "      <td>Hi.</td>\n",
       "      <td>Teddy</td>\n",
       "      <td>S04E16.csv</td>\n",
       "      <td>1</td>\n",
       "    </tr>\n",
       "    <tr>\n",
       "      <th>...</th>\n",
       "      <td>...</td>\n",
       "      <td>...</td>\n",
       "      <td>...</td>\n",
       "      <td>...</td>\n",
       "      <td>...</td>\n",
       "      <td>...</td>\n",
       "      <td>...</td>\n",
       "    </tr>\n",
       "    <tr>\n",
       "      <th>335</th>\n",
       "      <td>6251</td>\n",
       "      <td>S04E11.csv_17</td>\n",
       "      <td>335</td>\n",
       "      <td>And I have a question for you.</td>\n",
       "      <td>Bob</td>\n",
       "      <td>S04E11.csv</td>\n",
       "      <td>17</td>\n",
       "    </tr>\n",
       "    <tr>\n",
       "      <th>336</th>\n",
       "      <td>6252</td>\n",
       "      <td>S04E11.csv_17</td>\n",
       "      <td>336</td>\n",
       "      <td>How many times has this happened to you? This ...</td>\n",
       "      <td>Bob</td>\n",
       "      <td>S04E11.csv</td>\n",
       "      <td>17</td>\n",
       "    </tr>\n",
       "    <tr>\n",
       "      <th>337</th>\n",
       "      <td>6253</td>\n",
       "      <td>S04E11.csv_17</td>\n",
       "      <td>337</td>\n",
       "      <td>Bob's Butt Stuff.</td>\n",
       "      <td>Bob</td>\n",
       "      <td>S04E11.csv</td>\n",
       "      <td>17</td>\n",
       "    </tr>\n",
       "    <tr>\n",
       "      <th>338</th>\n",
       "      <td>6254</td>\n",
       "      <td>S04E11.csv_17</td>\n",
       "      <td>338</td>\n",
       "      <td>Is it a cream? Is it a salve? Can you grout yo...</td>\n",
       "      <td>Bob</td>\n",
       "      <td>S04E11.csv</td>\n",
       "      <td>17</td>\n",
       "    </tr>\n",
       "    <tr>\n",
       "      <th>339</th>\n",
       "      <td>6255</td>\n",
       "      <td>S04E11.csv_17</td>\n",
       "      <td>339</td>\n",
       "      <td>Bob's Butt Stuff, available in the most embarr...</td>\n",
       "      <td>Bob</td>\n",
       "      <td>S04E11.csv</td>\n",
       "      <td>17</td>\n",
       "    </tr>\n",
       "  </tbody>\n",
       "</table>\n",
       "<p>4122 rows × 7 columns</p>\n",
       "</div>"
      ],
      "text/plain": [
       "       Id    Dialogue_id  Utterance_id  \\\n",
       "0    7575   S04E16.csv_1             0   \n",
       "1    7576   S04E16.csv_1             1   \n",
       "2    7577   S04E16.csv_1             2   \n",
       "3    7578   S04E16.csv_1             3   \n",
       "4    7579   S04E16.csv_1             4   \n",
       "..    ...            ...           ...   \n",
       "335  6251  S04E11.csv_17           335   \n",
       "336  6252  S04E11.csv_17           336   \n",
       "337  6253  S04E11.csv_17           337   \n",
       "338  6254  S04E11.csv_17           338   \n",
       "339  6255  S04E11.csv_17           339   \n",
       "\n",
       "                                              Sentence Speaker       fname  \\\n",
       "0                              [Music] Howdy, Duncans.    Beau  S04E16.csv   \n",
       "1                                                 Hey.     Bob  S04E16.csv   \n",
       "2                                           Hey, Beau.   Teddy  S04E16.csv   \n",
       "3                                    Morning, Sweetie.    Beau  S04E16.csv   \n",
       "4                                                  Hi.   Teddy  S04E16.csv   \n",
       "..                                                 ...     ...         ...   \n",
       "335                     And I have a question for you.     Bob  S04E11.csv   \n",
       "336  How many times has this happened to you? This ...     Bob  S04E11.csv   \n",
       "337                                  Bob's Butt Stuff.     Bob  S04E11.csv   \n",
       "338  Is it a cream? Is it a salve? Can you grout yo...     Bob  S04E11.csv   \n",
       "339  Bob's Butt Stuff, available in the most embarr...     Bob  S04E11.csv   \n",
       "\n",
       "     Dialogue_id_old  \n",
       "0                  1  \n",
       "1                  1  \n",
       "2                  1  \n",
       "3                  1  \n",
       "4                  1  \n",
       "..               ...  \n",
       "335               17  \n",
       "336               17  \n",
       "337               17  \n",
       "338               17  \n",
       "339               17  \n",
       "\n",
       "[4122 rows x 7 columns]"
      ]
     },
     "execution_count": 18,
     "metadata": {},
     "output_type": "execute_result"
    }
   ],
   "source": [
    "df"
   ]
  },
  {
   "cell_type": "code",
   "execution_count": 19,
   "metadata": {},
   "outputs": [],
   "source": [
    "df.to_csv('data/after_preprocess/task1_charlie_test.csv',index=False)"
   ]
  },
  {
   "cell_type": "markdown",
   "metadata": {},
   "source": [
    "### task2dev数据"
   ]
  },
  {
   "cell_type": "code",
   "execution_count": 20,
   "metadata": {},
   "outputs": [],
   "source": [
    "# S03E06，S03E07，S03E10和S03E11"
   ]
  },
  {
   "cell_type": "code",
   "execution_count": 21,
   "metadata": {},
   "outputs": [
    {
     "data": {
      "text/plain": [
       "['S03E17.csv',\n",
       " 'S03E18.csv',\n",
       " 'S03E17.xlsx',\n",
       " 'S03E15.csv',\n",
       " 'S03E18.xlsx',\n",
       " 'S03E15.xlsx',\n",
       " '.ipynb_checkpoints']"
      ]
     },
     "execution_count": 21,
     "metadata": {},
     "output_type": "execute_result"
    }
   ],
   "source": [
    "data_dir = 'data/官方数据/test/task2_test/'\n",
    "os.listdir(data_dir)"
   ]
  },
  {
   "cell_type": "code",
   "execution_count": 22,
   "metadata": {
    "scrolled": true
   },
   "outputs": [
    {
     "data": {
      "text/plain": [
       "(932, 8)"
      ]
     },
     "execution_count": 22,
     "metadata": {},
     "output_type": "execute_result"
    }
   ],
   "source": [
    "df_list = []\n",
    "# for fname in ['S03E06.csv', 'S03E07.csv', 'S03E10.csv', 'S03E11.csv']:\n",
    "for fname in ['S03E15.xlsx', 'S03E17.xlsx', 'S03E18.xlsx']:\n",
    "    df = pd.read_excel(os.path.join(data_dir, fname))\n",
    "    df['Sentence'] = df['Sentence'].apply(clean_raw_sentence)\n",
    "    new_cols = [x.capitalize() for x in list(df.columns)]\n",
    "    df.columns = new_cols\n",
    "    df_list.append(df)\n",
    "    df['fname'] = fname\n",
    "df = pd.concat(df_list)  # [keep_cols]\n",
    "# df = clean_df(df)\n",
    "df.shape"
   ]
  },
  {
   "cell_type": "code",
   "execution_count": 23,
   "metadata": {},
   "outputs": [
    {
     "data": {
      "text/plain": [
       "0      0\n",
       "1      0\n",
       "2      0\n",
       "3      0\n",
       "4      0\n",
       "      ..\n",
       "291    1\n",
       "292    0\n",
       "293    1\n",
       "294    0\n",
       "295    1\n",
       "Name: Label, Length: 932, dtype: int64"
      ]
     },
     "execution_count": 23,
     "metadata": {},
     "output_type": "execute_result"
    }
   ],
   "source": [
    "df['Label']"
   ]
  },
  {
   "cell_type": "code",
   "execution_count": 24,
   "metadata": {},
   "outputs": [],
   "source": [
    "df['Dialogue_id_old'] = df['Dialogue_id']\n",
    "df['Dialogue_id'] = df.apply(lambda x:f\"{x['fname']}_{x['Dialogue_id']}\",axis=1)"
   ]
  },
  {
   "cell_type": "code",
   "execution_count": 25,
   "metadata": {},
   "outputs": [],
   "source": [
    "df.to_csv('data/after_preprocess/task2_charlie_test.csv',index=False)"
   ]
  },
  {
   "cell_type": "code",
   "execution_count": 26,
   "metadata": {},
   "outputs": [
    {
     "data": {
      "text/plain": [
       "array(['S03E15.xlsx', 'S03E17.xlsx', 'S03E18.xlsx'], dtype=object)"
      ]
     },
     "execution_count": 26,
     "metadata": {},
     "output_type": "execute_result"
    }
   ],
   "source": [
    "df['fname'].unique()"
   ]
  }
 ],
 "metadata": {
  "kernelspec": {
   "display_name": "4s_dev",
   "language": "python",
   "name": "4s_dev"
  },
  "language_info": {
   "codemirror_mode": {
    "name": "ipython",
    "version": 3
   },
   "file_extension": ".py",
   "mimetype": "text/x-python",
   "name": "python",
   "nbconvert_exporter": "python",
   "pygments_lexer": "ipython3",
   "version": "3.7.5"
  },
  "toc": {
   "base_numbering": 1,
   "nav_menu": {},
   "number_sections": true,
   "sideBar": true,
   "skip_h1_title": false,
   "title_cell": "Table of Contents",
   "title_sidebar": "Contents",
   "toc_cell": false,
   "toc_position": {
    "height": "calc(100% - 180px)",
    "left": "10px",
    "top": "150px",
    "width": "190px"
   },
   "toc_section_display": true,
   "toc_window_display": true
  }
 },
 "nbformat": 4,
 "nbformat_minor": 4
}
